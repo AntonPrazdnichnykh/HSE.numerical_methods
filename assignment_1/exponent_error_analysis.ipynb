{
 "cells": [
  {
   "cell_type": "code",
   "execution_count": 1,
   "metadata": {},
   "outputs": [],
   "source": [
    "from typing import Union, Iterable\n",
    "\n",
    "import numpy\n",
    "import plotly.graph_objects as go"
   ]
  },
  {
   "cell_type": "code",
   "execution_count": 5,
   "metadata": {
    "pycharm": {
     "name": "#%%\n"
    }
   },
   "outputs": [],
   "source": [
    "Float = numpy.float32\n",
    "Double = numpy.float64\n",
    "\n",
    "\n",
    "def inverse_exponent(x: Union[Float, Double], steps: int = 1000) -> Union[Float, Double]:\n",
    "    if not isinstance(x, (Float, Double)):\n",
    "        raise ValueError(f\"Unsupported type for x: {type(x)}.\")\n",
    "    x_type = type(x)\n",
    "    result = term = x_type(1)\n",
    "    for k in range(1, steps):\n",
    "        term = term / x_type(k) * x\n",
    "        result += term\n",
    "    return x_type(1) / result\n",
    "\n",
    "def get_relative_error(true_values: Iterable, calculated_values: Iterable) -> Iterable:\n",
    "    return [\n",
    "        Double(abs(_t - _c) / _t) for _t, _c in zip(true_values, calculated_values)\n",
    "    ]"
   ]
  },
  {
   "cell_type": "code",
   "execution_count": 6,
   "metadata": {
    "pycharm": {
     "name": "#%%\n"
    }
   },
   "outputs": [],
   "source": [
    "x_range = numpy.arange(100)\n",
    "numpy_values = numpy.exp(-x_range.astype(numpy.float128))"
   ]
  },
  {
   "cell_type": "code",
   "execution_count": 7,
   "metadata": {
    "pycharm": {
     "name": "#%%\n"
    }
   },
   "outputs": [
    {
     "name": "stderr",
     "output_type": "stream",
     "text": [
      "<ipython-input-5-61e6b81acdbc>:12: RuntimeWarning:\n",
      "\n",
      "overflow encountered in float_scalars\n",
      "\n",
      "<ipython-input-5-61e6b81acdbc>:11: RuntimeWarning:\n",
      "\n",
      "overflow encountered in float_scalars\n",
      "\n"
     ]
    },
    {
     "data": {
      "application/vnd.plotly.v1+json": {
       "config": {
        "plotlyServerURL": "https://plot.ly"
       },
       "data": [
        {
         "mode": "lines+markers",
         "type": "scatter",
         "x": [
          0,
          -1,
          -2,
          -3,
          -4,
          -5,
          -6,
          -7,
          -8,
          -9,
          -10,
          -11,
          -12,
          -13,
          -14,
          -15,
          -16,
          -17,
          -18,
          -19,
          -20,
          -21,
          -22,
          -23,
          -24,
          -25,
          -26,
          -27,
          -28,
          -29,
          -30,
          -31,
          -32,
          -33,
          -34,
          -35,
          -36,
          -37,
          -38,
          -39,
          -40,
          -41,
          -42,
          -43,
          -44,
          -45,
          -46,
          -47,
          -48,
          -49,
          -50,
          -51,
          -52,
          -53,
          -54,
          -55,
          -56,
          -57,
          -58,
          -59,
          -60,
          -61,
          -62,
          -63,
          -64,
          -65,
          -66,
          -67,
          -68,
          -69,
          -70,
          -71,
          -72,
          -73,
          -74,
          -75,
          -76,
          -77,
          -78,
          -79,
          -80,
          -81,
          -82,
          -83,
          -84,
          -85,
          -86,
          -87,
          -88,
          -89,
          -90,
          -91,
          -92,
          -93,
          -94,
          -95,
          -96,
          -97,
          -98,
          -99
         ],
         "y": [
          0.0,
          5.6139498129538486E-8,
          1.2300188011273447E-7,
          1.0477150266716352E-7,
          7.668535837707607E-8,
          1.1242246219833749E-10,
          2.3166374395101145E-7,
          2.4763642238266805E-7,
          9.777304698719427E-8,
          9.893939715382224E-8,
          2.6562378991926057E-8,
          9.679356082594222E-8,
          1.589770646511015E-7,
          8.674337209005033E-8,
          6.34207703018913E-8,
          6.259732292618231E-9,
          7.313988366551084E-8,
          1.4844269530526404E-7,
          4.524216592356985E-8,
          1.6057203858448298E-7,
          1.4155849118498414E-7,
          1.1179474850090915E-7,
          1.0239829031512419E-7,
          8.881315319389853E-9,
          4.569478828347666E-8,
          1.3344545107751922E-7,
          1.0345771336274548E-7,
          1.4254318232318696E-7,
          8.470559936933432E-8,
          1.234753006881148E-7,
          6.636365053355291E-8,
          1.0550056995362062E-7,
          1.8016022978893436E-8,
          2.8275383211656946E-7,
          1.521950551547963E-7,
          4.0499306825885516E-7,
          2.857687238774406E-7,
          5.076367119192268E-10,
          4.5230667143318694E-7,
          4.5652038277173354E-7,
          1.2657683498982382E-7,
          3.2724371121919966E-7,
          4.1830568099302146E-8,
          9.319530012023363E-7,
          1.7105769358990738E-7,
          3.28494126569034E-7,
          1.0331981193938781E-8,
          1.619442527481864E-7,
          2.4405391023736464E-7,
          1.0260220095107985E-7,
          2.3533285418561107E-8,
          1.2443890016913387E-7,
          3.1110660912900054E-7,
          1.1081845736579985E-8,
          5.134582913194064E-8,
          2.9413483466260514E-8,
          1.82969056725787E-7,
          1.0813017840168568E-7,
          4.3820276903206605E-7,
          5.666827307134483E-7,
          7.312818492126401E-8,
          2.9610925891384487E-7,
          9.291446810596142E-8,
          2.514639312652314E-7,
          3.0179706121660654E-8,
          2.965300822990553E-7,
          6.159565865917925E-7,
          3.0781075714466803E-7,
          2.6635276661308015E-7,
          1.000592425603725E-7,
          6.547355785290203E-7,
          2.511797430445353E-7,
          4.424734713441926E-8,
          9.499612791606429E-8,
          3.405918186305071E-7,
          5.617312230025106E-7,
          7.215222930823426E-7,
          2.1440741482869218E-7,
          5.606308886319067E-7,
          5.385211500184777E-8,
          4.441901462394685E-7,
          2.527750837775552E-7,
          2.3267251221526835E-7,
          2.606613526283759E-8,
          3.228469124065476E-8,
          6.97366014510253E-8,
          5.02346324288149E-7,
          3.543489216102536E-7,
          6.265796206498859E-7,
          1.0,
          1.0,
          1.0,
          1.0,
          1.0,
          1.0,
          1.0,
          1.0,
          1.0,
          1.0,
          1.0
         ]
        }
       ],
       "layout": {
        "template": {
         "data": {
          "bar": [
           {
            "error_x": {
             "color": "#2a3f5f"
            },
            "error_y": {
             "color": "#2a3f5f"
            },
            "marker": {
             "line": {
              "color": "#E5ECF6",
              "width": 0.5
             }
            },
            "type": "bar"
           }
          ],
          "barpolar": [
           {
            "marker": {
             "line": {
              "color": "#E5ECF6",
              "width": 0.5
             }
            },
            "type": "barpolar"
           }
          ],
          "carpet": [
           {
            "aaxis": {
             "endlinecolor": "#2a3f5f",
             "gridcolor": "white",
             "linecolor": "white",
             "minorgridcolor": "white",
             "startlinecolor": "#2a3f5f"
            },
            "baxis": {
             "endlinecolor": "#2a3f5f",
             "gridcolor": "white",
             "linecolor": "white",
             "minorgridcolor": "white",
             "startlinecolor": "#2a3f5f"
            },
            "type": "carpet"
           }
          ],
          "choropleth": [
           {
            "colorbar": {
             "outlinewidth": 0,
             "ticks": ""
            },
            "type": "choropleth"
           }
          ],
          "contour": [
           {
            "colorbar": {
             "outlinewidth": 0,
             "ticks": ""
            },
            "colorscale": [
             [
              0.0,
              "#0d0887"
             ],
             [
              0.1111111111111111,
              "#46039f"
             ],
             [
              0.2222222222222222,
              "#7201a8"
             ],
             [
              0.3333333333333333,
              "#9c179e"
             ],
             [
              0.4444444444444444,
              "#bd3786"
             ],
             [
              0.5555555555555556,
              "#d8576b"
             ],
             [
              0.6666666666666666,
              "#ed7953"
             ],
             [
              0.7777777777777778,
              "#fb9f3a"
             ],
             [
              0.8888888888888888,
              "#fdca26"
             ],
             [
              1.0,
              "#f0f921"
             ]
            ],
            "type": "contour"
           }
          ],
          "contourcarpet": [
           {
            "colorbar": {
             "outlinewidth": 0,
             "ticks": ""
            },
            "type": "contourcarpet"
           }
          ],
          "heatmap": [
           {
            "colorbar": {
             "outlinewidth": 0,
             "ticks": ""
            },
            "colorscale": [
             [
              0.0,
              "#0d0887"
             ],
             [
              0.1111111111111111,
              "#46039f"
             ],
             [
              0.2222222222222222,
              "#7201a8"
             ],
             [
              0.3333333333333333,
              "#9c179e"
             ],
             [
              0.4444444444444444,
              "#bd3786"
             ],
             [
              0.5555555555555556,
              "#d8576b"
             ],
             [
              0.6666666666666666,
              "#ed7953"
             ],
             [
              0.7777777777777778,
              "#fb9f3a"
             ],
             [
              0.8888888888888888,
              "#fdca26"
             ],
             [
              1.0,
              "#f0f921"
             ]
            ],
            "type": "heatmap"
           }
          ],
          "heatmapgl": [
           {
            "colorbar": {
             "outlinewidth": 0,
             "ticks": ""
            },
            "colorscale": [
             [
              0.0,
              "#0d0887"
             ],
             [
              0.1111111111111111,
              "#46039f"
             ],
             [
              0.2222222222222222,
              "#7201a8"
             ],
             [
              0.3333333333333333,
              "#9c179e"
             ],
             [
              0.4444444444444444,
              "#bd3786"
             ],
             [
              0.5555555555555556,
              "#d8576b"
             ],
             [
              0.6666666666666666,
              "#ed7953"
             ],
             [
              0.7777777777777778,
              "#fb9f3a"
             ],
             [
              0.8888888888888888,
              "#fdca26"
             ],
             [
              1.0,
              "#f0f921"
             ]
            ],
            "type": "heatmapgl"
           }
          ],
          "histogram": [
           {
            "marker": {
             "colorbar": {
              "outlinewidth": 0,
              "ticks": ""
             }
            },
            "type": "histogram"
           }
          ],
          "histogram2d": [
           {
            "colorbar": {
             "outlinewidth": 0,
             "ticks": ""
            },
            "colorscale": [
             [
              0.0,
              "#0d0887"
             ],
             [
              0.1111111111111111,
              "#46039f"
             ],
             [
              0.2222222222222222,
              "#7201a8"
             ],
             [
              0.3333333333333333,
              "#9c179e"
             ],
             [
              0.4444444444444444,
              "#bd3786"
             ],
             [
              0.5555555555555556,
              "#d8576b"
             ],
             [
              0.6666666666666666,
              "#ed7953"
             ],
             [
              0.7777777777777778,
              "#fb9f3a"
             ],
             [
              0.8888888888888888,
              "#fdca26"
             ],
             [
              1.0,
              "#f0f921"
             ]
            ],
            "type": "histogram2d"
           }
          ],
          "histogram2dcontour": [
           {
            "colorbar": {
             "outlinewidth": 0,
             "ticks": ""
            },
            "colorscale": [
             [
              0.0,
              "#0d0887"
             ],
             [
              0.1111111111111111,
              "#46039f"
             ],
             [
              0.2222222222222222,
              "#7201a8"
             ],
             [
              0.3333333333333333,
              "#9c179e"
             ],
             [
              0.4444444444444444,
              "#bd3786"
             ],
             [
              0.5555555555555556,
              "#d8576b"
             ],
             [
              0.6666666666666666,
              "#ed7953"
             ],
             [
              0.7777777777777778,
              "#fb9f3a"
             ],
             [
              0.8888888888888888,
              "#fdca26"
             ],
             [
              1.0,
              "#f0f921"
             ]
            ],
            "type": "histogram2dcontour"
           }
          ],
          "mesh3d": [
           {
            "colorbar": {
             "outlinewidth": 0,
             "ticks": ""
            },
            "type": "mesh3d"
           }
          ],
          "parcoords": [
           {
            "line": {
             "colorbar": {
              "outlinewidth": 0,
              "ticks": ""
             }
            },
            "type": "parcoords"
           }
          ],
          "pie": [
           {
            "automargin": true,
            "type": "pie"
           }
          ],
          "scatter": [
           {
            "marker": {
             "colorbar": {
              "outlinewidth": 0,
              "ticks": ""
             }
            },
            "type": "scatter"
           }
          ],
          "scatter3d": [
           {
            "line": {
             "colorbar": {
              "outlinewidth": 0,
              "ticks": ""
             }
            },
            "marker": {
             "colorbar": {
              "outlinewidth": 0,
              "ticks": ""
             }
            },
            "type": "scatter3d"
           }
          ],
          "scattercarpet": [
           {
            "marker": {
             "colorbar": {
              "outlinewidth": 0,
              "ticks": ""
             }
            },
            "type": "scattercarpet"
           }
          ],
          "scattergeo": [
           {
            "marker": {
             "colorbar": {
              "outlinewidth": 0,
              "ticks": ""
             }
            },
            "type": "scattergeo"
           }
          ],
          "scattergl": [
           {
            "marker": {
             "colorbar": {
              "outlinewidth": 0,
              "ticks": ""
             }
            },
            "type": "scattergl"
           }
          ],
          "scattermapbox": [
           {
            "marker": {
             "colorbar": {
              "outlinewidth": 0,
              "ticks": ""
             }
            },
            "type": "scattermapbox"
           }
          ],
          "scatterpolar": [
           {
            "marker": {
             "colorbar": {
              "outlinewidth": 0,
              "ticks": ""
             }
            },
            "type": "scatterpolar"
           }
          ],
          "scatterpolargl": [
           {
            "marker": {
             "colorbar": {
              "outlinewidth": 0,
              "ticks": ""
             }
            },
            "type": "scatterpolargl"
           }
          ],
          "scatterternary": [
           {
            "marker": {
             "colorbar": {
              "outlinewidth": 0,
              "ticks": ""
             }
            },
            "type": "scatterternary"
           }
          ],
          "surface": [
           {
            "colorbar": {
             "outlinewidth": 0,
             "ticks": ""
            },
            "colorscale": [
             [
              0.0,
              "#0d0887"
             ],
             [
              0.1111111111111111,
              "#46039f"
             ],
             [
              0.2222222222222222,
              "#7201a8"
             ],
             [
              0.3333333333333333,
              "#9c179e"
             ],
             [
              0.4444444444444444,
              "#bd3786"
             ],
             [
              0.5555555555555556,
              "#d8576b"
             ],
             [
              0.6666666666666666,
              "#ed7953"
             ],
             [
              0.7777777777777778,
              "#fb9f3a"
             ],
             [
              0.8888888888888888,
              "#fdca26"
             ],
             [
              1.0,
              "#f0f921"
             ]
            ],
            "type": "surface"
           }
          ],
          "table": [
           {
            "cells": {
             "fill": {
              "color": "#EBF0F8"
             },
             "line": {
              "color": "white"
             }
            },
            "header": {
             "fill": {
              "color": "#C8D4E3"
             },
             "line": {
              "color": "white"
             }
            },
            "type": "table"
           }
          ]
         },
         "layout": {
          "annotationdefaults": {
           "arrowcolor": "#2a3f5f",
           "arrowhead": 0,
           "arrowwidth": 1
          },
          "coloraxis": {
           "colorbar": {
            "outlinewidth": 0,
            "ticks": ""
           }
          },
          "colorscale": {
           "diverging": [
            [
             0,
             "#8e0152"
            ],
            [
             0.1,
             "#c51b7d"
            ],
            [
             0.2,
             "#de77ae"
            ],
            [
             0.3,
             "#f1b6da"
            ],
            [
             0.4,
             "#fde0ef"
            ],
            [
             0.5,
             "#f7f7f7"
            ],
            [
             0.6,
             "#e6f5d0"
            ],
            [
             0.7,
             "#b8e186"
            ],
            [
             0.8,
             "#7fbc41"
            ],
            [
             0.9,
             "#4d9221"
            ],
            [
             1,
             "#276419"
            ]
           ],
           "sequential": [
            [
             0.0,
             "#0d0887"
            ],
            [
             0.1111111111111111,
             "#46039f"
            ],
            [
             0.2222222222222222,
             "#7201a8"
            ],
            [
             0.3333333333333333,
             "#9c179e"
            ],
            [
             0.4444444444444444,
             "#bd3786"
            ],
            [
             0.5555555555555556,
             "#d8576b"
            ],
            [
             0.6666666666666666,
             "#ed7953"
            ],
            [
             0.7777777777777778,
             "#fb9f3a"
            ],
            [
             0.8888888888888888,
             "#fdca26"
            ],
            [
             1.0,
             "#f0f921"
            ]
           ],
           "sequentialminus": [
            [
             0.0,
             "#0d0887"
            ],
            [
             0.1111111111111111,
             "#46039f"
            ],
            [
             0.2222222222222222,
             "#7201a8"
            ],
            [
             0.3333333333333333,
             "#9c179e"
            ],
            [
             0.4444444444444444,
             "#bd3786"
            ],
            [
             0.5555555555555556,
             "#d8576b"
            ],
            [
             0.6666666666666666,
             "#ed7953"
            ],
            [
             0.7777777777777778,
             "#fb9f3a"
            ],
            [
             0.8888888888888888,
             "#fdca26"
            ],
            [
             1.0,
             "#f0f921"
            ]
           ]
          },
          "colorway": [
           "#636efa",
           "#EF553B",
           "#00cc96",
           "#ab63fa",
           "#FFA15A",
           "#19d3f3",
           "#FF6692",
           "#B6E880",
           "#FF97FF",
           "#FECB52"
          ],
          "font": {
           "color": "#2a3f5f"
          },
          "geo": {
           "bgcolor": "white",
           "lakecolor": "white",
           "landcolor": "#E5ECF6",
           "showlakes": true,
           "showland": true,
           "subunitcolor": "white"
          },
          "hoverlabel": {
           "align": "left"
          },
          "hovermode": "closest",
          "mapbox": {
           "style": "light"
          },
          "paper_bgcolor": "white",
          "plot_bgcolor": "#E5ECF6",
          "polar": {
           "angularaxis": {
            "gridcolor": "white",
            "linecolor": "white",
            "ticks": ""
           },
           "bgcolor": "#E5ECF6",
           "radialaxis": {
            "gridcolor": "white",
            "linecolor": "white",
            "ticks": ""
           }
          },
          "scene": {
           "xaxis": {
            "backgroundcolor": "#E5ECF6",
            "gridcolor": "white",
            "gridwidth": 2,
            "linecolor": "white",
            "showbackground": true,
            "ticks": "",
            "zerolinecolor": "white"
           },
           "yaxis": {
            "backgroundcolor": "#E5ECF6",
            "gridcolor": "white",
            "gridwidth": 2,
            "linecolor": "white",
            "showbackground": true,
            "ticks": "",
            "zerolinecolor": "white"
           },
           "zaxis": {
            "backgroundcolor": "#E5ECF6",
            "gridcolor": "white",
            "gridwidth": 2,
            "linecolor": "white",
            "showbackground": true,
            "ticks": "",
            "zerolinecolor": "white"
           }
          },
          "shapedefaults": {
           "line": {
            "color": "#2a3f5f"
           }
          },
          "ternary": {
           "aaxis": {
            "gridcolor": "white",
            "linecolor": "white",
            "ticks": ""
           },
           "baxis": {
            "gridcolor": "white",
            "linecolor": "white",
            "ticks": ""
           },
           "bgcolor": "#E5ECF6",
           "caxis": {
            "gridcolor": "white",
            "linecolor": "white",
            "ticks": ""
           }
          },
          "title": {
           "x": 0.05
          },
          "xaxis": {
           "automargin": true,
           "gridcolor": "white",
           "linecolor": "white",
           "ticks": "",
           "title": {
            "standoff": 15
           },
           "zerolinecolor": "white",
           "zerolinewidth": 2
          },
          "yaxis": {
           "automargin": true,
           "gridcolor": "white",
           "linecolor": "white",
           "ticks": "",
           "title": {
            "standoff": 15
           },
           "zerolinecolor": "white",
           "zerolinewidth": 2
          }
         }
        },
        "title": {
         "text": "Float relative error"
        },
        "xaxis": {
         "title": {
          "text": "x"
         }
        },
        "yaxis": {
         "exponentformat": "e",
         "title": {
          "text": "Log error"
         },
         "type": "log"
        }
       }
      },
      "text/html": "<div>                            <div id=\"a4014b1c-3f8e-420e-8845-d6136ce1605c\" class=\"plotly-graph-div\" style=\"height:525px; width:100%;\"></div>            <script type=\"text/javascript\">                require([\"plotly\"], function(Plotly) {                    window.PLOTLYENV=window.PLOTLYENV || {};                                    if (document.getElementById(\"a4014b1c-3f8e-420e-8845-d6136ce1605c\")) {                    Plotly.newPlot(                        \"a4014b1c-3f8e-420e-8845-d6136ce1605c\",                        [{\"mode\": \"lines+markers\", \"type\": \"scatter\", \"x\": [0, -1, -2, -3, -4, -5, -6, -7, -8, -9, -10, -11, -12, -13, -14, -15, -16, -17, -18, -19, -20, -21, -22, -23, -24, -25, -26, -27, -28, -29, -30, -31, -32, -33, -34, -35, -36, -37, -38, -39, -40, -41, -42, -43, -44, -45, -46, -47, -48, -49, -50, -51, -52, -53, -54, -55, -56, -57, -58, -59, -60, -61, -62, -63, -64, -65, -66, -67, -68, -69, -70, -71, -72, -73, -74, -75, -76, -77, -78, -79, -80, -81, -82, -83, -84, -85, -86, -87, -88, -89, -90, -91, -92, -93, -94, -95, -96, -97, -98, -99], \"y\": [0.0, 5.6139498129538486e-08, 1.2300188011273447e-07, 1.0477150266716352e-07, 7.668535837707607e-08, 1.1242246219833749e-10, 2.3166374395101145e-07, 2.4763642238266805e-07, 9.777304698719427e-08, 9.893939715382224e-08, 2.6562378991926057e-08, 9.679356082594222e-08, 1.589770646511015e-07, 8.674337209005033e-08, 6.34207703018913e-08, 6.259732292618231e-09, 7.313988366551084e-08, 1.4844269530526404e-07, 4.524216592356985e-08, 1.6057203858448298e-07, 1.4155849118498414e-07, 1.1179474850090915e-07, 1.0239829031512419e-07, 8.881315319389853e-09, 4.569478828347666e-08, 1.3344545107751922e-07, 1.0345771336274548e-07, 1.4254318232318696e-07, 8.470559936933432e-08, 1.234753006881148e-07, 6.636365053355291e-08, 1.0550056995362062e-07, 1.8016022978893436e-08, 2.8275383211656946e-07, 1.521950551547963e-07, 4.0499306825885516e-07, 2.857687238774406e-07, 5.076367119192268e-10, 4.5230667143318694e-07, 4.5652038277173354e-07, 1.2657683498982382e-07, 3.2724371121919966e-07, 4.1830568099302146e-08, 9.319530012023363e-07, 1.7105769358990738e-07, 3.28494126569034e-07, 1.0331981193938781e-08, 1.619442527481864e-07, 2.4405391023736464e-07, 1.0260220095107985e-07, 2.3533285418561107e-08, 1.2443890016913387e-07, 3.1110660912900054e-07, 1.1081845736579985e-08, 5.134582913194064e-08, 2.9413483466260514e-08, 1.82969056725787e-07, 1.0813017840168568e-07, 4.3820276903206605e-07, 5.666827307134483e-07, 7.312818492126401e-08, 2.9610925891384487e-07, 9.291446810596142e-08, 2.514639312652314e-07, 3.0179706121660654e-08, 2.965300822990553e-07, 6.159565865917925e-07, 3.0781075714466803e-07, 2.6635276661308015e-07, 1.000592425603725e-07, 6.547355785290203e-07, 2.511797430445353e-07, 4.424734713441926e-08, 9.499612791606429e-08, 3.405918186305071e-07, 5.617312230025106e-07, 7.215222930823426e-07, 2.1440741482869218e-07, 5.606308886319067e-07, 5.385211500184777e-08, 4.441901462394685e-07, 2.527750837775552e-07, 2.3267251221526835e-07, 2.606613526283759e-08, 3.228469124065476e-08, 6.97366014510253e-08, 5.02346324288149e-07, 3.543489216102536e-07, 6.265796206498859e-07, 1.0, 1.0, 1.0, 1.0, 1.0, 1.0, 1.0, 1.0, 1.0, 1.0, 1.0]}],                        {\"template\": {\"data\": {\"bar\": [{\"error_x\": {\"color\": \"#2a3f5f\"}, \"error_y\": {\"color\": \"#2a3f5f\"}, \"marker\": {\"line\": {\"color\": \"#E5ECF6\", \"width\": 0.5}}, \"type\": \"bar\"}], \"barpolar\": [{\"marker\": {\"line\": {\"color\": \"#E5ECF6\", \"width\": 0.5}}, \"type\": \"barpolar\"}], \"carpet\": [{\"aaxis\": {\"endlinecolor\": \"#2a3f5f\", \"gridcolor\": \"white\", \"linecolor\": \"white\", \"minorgridcolor\": \"white\", \"startlinecolor\": \"#2a3f5f\"}, \"baxis\": {\"endlinecolor\": \"#2a3f5f\", \"gridcolor\": \"white\", \"linecolor\": \"white\", \"minorgridcolor\": \"white\", \"startlinecolor\": \"#2a3f5f\"}, \"type\": \"carpet\"}], \"choropleth\": [{\"colorbar\": {\"outlinewidth\": 0, \"ticks\": \"\"}, \"type\": \"choropleth\"}], \"contour\": [{\"colorbar\": {\"outlinewidth\": 0, \"ticks\": \"\"}, \"colorscale\": [[0.0, \"#0d0887\"], [0.1111111111111111, \"#46039f\"], [0.2222222222222222, \"#7201a8\"], [0.3333333333333333, \"#9c179e\"], [0.4444444444444444, \"#bd3786\"], [0.5555555555555556, \"#d8576b\"], [0.6666666666666666, \"#ed7953\"], [0.7777777777777778, \"#fb9f3a\"], [0.8888888888888888, \"#fdca26\"], [1.0, \"#f0f921\"]], \"type\": \"contour\"}], \"contourcarpet\": [{\"colorbar\": {\"outlinewidth\": 0, \"ticks\": \"\"}, \"type\": \"contourcarpet\"}], \"heatmap\": [{\"colorbar\": {\"outlinewidth\": 0, \"ticks\": \"\"}, \"colorscale\": [[0.0, \"#0d0887\"], [0.1111111111111111, \"#46039f\"], [0.2222222222222222, \"#7201a8\"], [0.3333333333333333, \"#9c179e\"], [0.4444444444444444, \"#bd3786\"], [0.5555555555555556, \"#d8576b\"], [0.6666666666666666, \"#ed7953\"], [0.7777777777777778, \"#fb9f3a\"], [0.8888888888888888, \"#fdca26\"], [1.0, \"#f0f921\"]], \"type\": \"heatmap\"}], \"heatmapgl\": [{\"colorbar\": {\"outlinewidth\": 0, \"ticks\": \"\"}, \"colorscale\": [[0.0, \"#0d0887\"], [0.1111111111111111, \"#46039f\"], [0.2222222222222222, \"#7201a8\"], [0.3333333333333333, \"#9c179e\"], [0.4444444444444444, \"#bd3786\"], [0.5555555555555556, \"#d8576b\"], [0.6666666666666666, \"#ed7953\"], [0.7777777777777778, \"#fb9f3a\"], [0.8888888888888888, \"#fdca26\"], [1.0, \"#f0f921\"]], \"type\": \"heatmapgl\"}], \"histogram\": [{\"marker\": {\"colorbar\": {\"outlinewidth\": 0, \"ticks\": \"\"}}, \"type\": \"histogram\"}], \"histogram2d\": [{\"colorbar\": {\"outlinewidth\": 0, \"ticks\": \"\"}, \"colorscale\": [[0.0, \"#0d0887\"], [0.1111111111111111, \"#46039f\"], [0.2222222222222222, \"#7201a8\"], [0.3333333333333333, \"#9c179e\"], [0.4444444444444444, \"#bd3786\"], [0.5555555555555556, \"#d8576b\"], [0.6666666666666666, \"#ed7953\"], [0.7777777777777778, \"#fb9f3a\"], [0.8888888888888888, \"#fdca26\"], [1.0, \"#f0f921\"]], \"type\": \"histogram2d\"}], \"histogram2dcontour\": [{\"colorbar\": {\"outlinewidth\": 0, \"ticks\": \"\"}, \"colorscale\": [[0.0, \"#0d0887\"], [0.1111111111111111, \"#46039f\"], [0.2222222222222222, \"#7201a8\"], [0.3333333333333333, \"#9c179e\"], [0.4444444444444444, \"#bd3786\"], [0.5555555555555556, \"#d8576b\"], [0.6666666666666666, \"#ed7953\"], [0.7777777777777778, \"#fb9f3a\"], [0.8888888888888888, \"#fdca26\"], [1.0, \"#f0f921\"]], \"type\": \"histogram2dcontour\"}], \"mesh3d\": [{\"colorbar\": {\"outlinewidth\": 0, \"ticks\": \"\"}, \"type\": \"mesh3d\"}], \"parcoords\": [{\"line\": {\"colorbar\": {\"outlinewidth\": 0, \"ticks\": \"\"}}, \"type\": \"parcoords\"}], \"pie\": [{\"automargin\": true, \"type\": \"pie\"}], \"scatter\": [{\"marker\": {\"colorbar\": {\"outlinewidth\": 0, \"ticks\": \"\"}}, \"type\": \"scatter\"}], \"scatter3d\": [{\"line\": {\"colorbar\": {\"outlinewidth\": 0, \"ticks\": \"\"}}, \"marker\": {\"colorbar\": {\"outlinewidth\": 0, \"ticks\": \"\"}}, \"type\": \"scatter3d\"}], \"scattercarpet\": [{\"marker\": {\"colorbar\": {\"outlinewidth\": 0, \"ticks\": \"\"}}, \"type\": \"scattercarpet\"}], \"scattergeo\": [{\"marker\": {\"colorbar\": {\"outlinewidth\": 0, \"ticks\": \"\"}}, \"type\": \"scattergeo\"}], \"scattergl\": [{\"marker\": {\"colorbar\": {\"outlinewidth\": 0, \"ticks\": \"\"}}, \"type\": \"scattergl\"}], \"scattermapbox\": [{\"marker\": {\"colorbar\": {\"outlinewidth\": 0, \"ticks\": \"\"}}, \"type\": \"scattermapbox\"}], \"scatterpolar\": [{\"marker\": {\"colorbar\": {\"outlinewidth\": 0, \"ticks\": \"\"}}, \"type\": \"scatterpolar\"}], \"scatterpolargl\": [{\"marker\": {\"colorbar\": {\"outlinewidth\": 0, \"ticks\": \"\"}}, \"type\": \"scatterpolargl\"}], \"scatterternary\": [{\"marker\": {\"colorbar\": {\"outlinewidth\": 0, \"ticks\": \"\"}}, \"type\": \"scatterternary\"}], \"surface\": [{\"colorbar\": {\"outlinewidth\": 0, \"ticks\": \"\"}, \"colorscale\": [[0.0, \"#0d0887\"], [0.1111111111111111, \"#46039f\"], [0.2222222222222222, \"#7201a8\"], [0.3333333333333333, \"#9c179e\"], [0.4444444444444444, \"#bd3786\"], [0.5555555555555556, \"#d8576b\"], [0.6666666666666666, \"#ed7953\"], [0.7777777777777778, \"#fb9f3a\"], [0.8888888888888888, \"#fdca26\"], [1.0, \"#f0f921\"]], \"type\": \"surface\"}], \"table\": [{\"cells\": {\"fill\": {\"color\": \"#EBF0F8\"}, \"line\": {\"color\": \"white\"}}, \"header\": {\"fill\": {\"color\": \"#C8D4E3\"}, \"line\": {\"color\": \"white\"}}, \"type\": \"table\"}]}, \"layout\": {\"annotationdefaults\": {\"arrowcolor\": \"#2a3f5f\", \"arrowhead\": 0, \"arrowwidth\": 1}, \"coloraxis\": {\"colorbar\": {\"outlinewidth\": 0, \"ticks\": \"\"}}, \"colorscale\": {\"diverging\": [[0, \"#8e0152\"], [0.1, \"#c51b7d\"], [0.2, \"#de77ae\"], [0.3, \"#f1b6da\"], [0.4, \"#fde0ef\"], [0.5, \"#f7f7f7\"], [0.6, \"#e6f5d0\"], [0.7, \"#b8e186\"], [0.8, \"#7fbc41\"], [0.9, \"#4d9221\"], [1, \"#276419\"]], \"sequential\": [[0.0, \"#0d0887\"], [0.1111111111111111, \"#46039f\"], [0.2222222222222222, \"#7201a8\"], [0.3333333333333333, \"#9c179e\"], [0.4444444444444444, \"#bd3786\"], [0.5555555555555556, \"#d8576b\"], [0.6666666666666666, \"#ed7953\"], [0.7777777777777778, \"#fb9f3a\"], [0.8888888888888888, \"#fdca26\"], [1.0, \"#f0f921\"]], \"sequentialminus\": [[0.0, \"#0d0887\"], [0.1111111111111111, \"#46039f\"], [0.2222222222222222, \"#7201a8\"], [0.3333333333333333, \"#9c179e\"], [0.4444444444444444, \"#bd3786\"], [0.5555555555555556, \"#d8576b\"], [0.6666666666666666, \"#ed7953\"], [0.7777777777777778, \"#fb9f3a\"], [0.8888888888888888, \"#fdca26\"], [1.0, \"#f0f921\"]]}, \"colorway\": [\"#636efa\", \"#EF553B\", \"#00cc96\", \"#ab63fa\", \"#FFA15A\", \"#19d3f3\", \"#FF6692\", \"#B6E880\", \"#FF97FF\", \"#FECB52\"], \"font\": {\"color\": \"#2a3f5f\"}, \"geo\": {\"bgcolor\": \"white\", \"lakecolor\": \"white\", \"landcolor\": \"#E5ECF6\", \"showlakes\": true, \"showland\": true, \"subunitcolor\": \"white\"}, \"hoverlabel\": {\"align\": \"left\"}, \"hovermode\": \"closest\", \"mapbox\": {\"style\": \"light\"}, \"paper_bgcolor\": \"white\", \"plot_bgcolor\": \"#E5ECF6\", \"polar\": {\"angularaxis\": {\"gridcolor\": \"white\", \"linecolor\": \"white\", \"ticks\": \"\"}, \"bgcolor\": \"#E5ECF6\", \"radialaxis\": {\"gridcolor\": \"white\", \"linecolor\": \"white\", \"ticks\": \"\"}}, \"scene\": {\"xaxis\": {\"backgroundcolor\": \"#E5ECF6\", \"gridcolor\": \"white\", \"gridwidth\": 2, \"linecolor\": \"white\", \"showbackground\": true, \"ticks\": \"\", \"zerolinecolor\": \"white\"}, \"yaxis\": {\"backgroundcolor\": \"#E5ECF6\", \"gridcolor\": \"white\", \"gridwidth\": 2, \"linecolor\": \"white\", \"showbackground\": true, \"ticks\": \"\", \"zerolinecolor\": \"white\"}, \"zaxis\": {\"backgroundcolor\": \"#E5ECF6\", \"gridcolor\": \"white\", \"gridwidth\": 2, \"linecolor\": \"white\", \"showbackground\": true, \"ticks\": \"\", \"zerolinecolor\": \"white\"}}, \"shapedefaults\": {\"line\": {\"color\": \"#2a3f5f\"}}, \"ternary\": {\"aaxis\": {\"gridcolor\": \"white\", \"linecolor\": \"white\", \"ticks\": \"\"}, \"baxis\": {\"gridcolor\": \"white\", \"linecolor\": \"white\", \"ticks\": \"\"}, \"bgcolor\": \"#E5ECF6\", \"caxis\": {\"gridcolor\": \"white\", \"linecolor\": \"white\", \"ticks\": \"\"}}, \"title\": {\"x\": 0.05}, \"xaxis\": {\"automargin\": true, \"gridcolor\": \"white\", \"linecolor\": \"white\", \"ticks\": \"\", \"title\": {\"standoff\": 15}, \"zerolinecolor\": \"white\", \"zerolinewidth\": 2}, \"yaxis\": {\"automargin\": true, \"gridcolor\": \"white\", \"linecolor\": \"white\", \"ticks\": \"\", \"title\": {\"standoff\": 15}, \"zerolinecolor\": \"white\", \"zerolinewidth\": 2}}}, \"title\": {\"text\": \"Float relative error\"}, \"xaxis\": {\"title\": {\"text\": \"x\"}}, \"yaxis\": {\"exponentformat\": \"e\", \"title\": {\"text\": \"Log error\"}, \"type\": \"log\"}},                        {\"responsive\": true}                    ).then(function(){\n                            \nvar gd = document.getElementById('a4014b1c-3f8e-420e-8845-d6136ce1605c');\nvar x = new MutationObserver(function (mutations, observer) {{\n        var display = window.getComputedStyle(gd).display;\n        if (!display || display === 'none') {{\n            console.log([gd, 'removed!']);\n            Plotly.purge(gd);\n            observer.disconnect();\n        }}\n}});\n\n// Listen for the removal of the full notebook cells\nvar notebookContainer = gd.closest('#notebook-container');\nif (notebookContainer) {{\n    x.observe(notebookContainer, {childList: true});\n}}\n\n// Listen for the clearing of the current output cell\nvar outputEl = gd.closest('.output');\nif (outputEl) {{\n    x.observe(outputEl, {childList: true});\n}}\n\n                        })                };                });            </script>        </div>"
     },
     "metadata": {},
     "output_type": "display_data"
    }
   ],
   "source": [
    "float_values = [inverse_exponent(Float(i)) for i in x_range]\n",
    "float_relative_errors = get_relative_error(numpy_values, float_values)\n",
    "fig = go.Figure()\n",
    "fig.add_trace(go.Scatter(x=-x_range, y=float_relative_errors, mode='lines+markers'))\n",
    "fig.update_layout(\n",
    "    yaxis={\"title\": \"Log error\", \"exponentformat\": \"e\"}, xaxis={\"title\": \"x\"}, title=\"Float relative error\"\n",
    ")\n",
    "fig.update_yaxes(type=\"log\")\n",
    "fig.show()"
   ]
  },
  {
   "cell_type": "code",
   "execution_count": 5,
   "metadata": {
    "pycharm": {
     "name": "#%%\n"
    }
   },
   "outputs": [
    {
     "data": {
      "application/vnd.plotly.v1+json": {
       "config": {
        "plotlyServerURL": "https://plot.ly"
       },
       "data": [
        {
         "mode": "lines+markers",
         "type": "scatter",
         "x": [
          0,
          -1,
          -2,
          -3,
          -4,
          -5,
          -6,
          -7,
          -8,
          -9,
          -10,
          -11,
          -12,
          -13,
          -14,
          -15,
          -16,
          -17,
          -18,
          -19,
          -20,
          -21,
          -22,
          -23,
          -24,
          -25,
          -26,
          -27,
          -28,
          -29,
          -30,
          -31,
          -32,
          -33,
          -34,
          -35,
          -36,
          -37,
          -38,
          -39,
          -40,
          -41,
          -42,
          -43,
          -44,
          -45,
          -46,
          -47,
          -48,
          -49
         ],
         "y": [
          0,
          1.1714989078776585E-16,
          2.8209546014617974E-16,
          3.0854979083925264E-16,
          4.675514268851592E-16,
          3.719783624397255E-16,
          2.7337398396751835E-17,
          8.714677482615866E-16,
          2.0452253998182132E-16,
          1.2472410074952967E-16,
          2.0734206903183193E-16,
          2.971603753203847E-18,
          4.213844132337843E-16,
          3.815089012792547E-17,
          3.9038542407619167E-16,
          3.54232880831644E-16,
          1.7284968136045698E-17,
          7.577763989921291E-16,
          1.701513597654938E-16,
          9.659849253633209E-17,
          2.2103911459967045E-16,
          2.554130751961734E-16,
          2.460584145663322E-16,
          1.1746185946811761E-17,
          1.7795231905158492E-16,
          1.3802849567408046E-16,
          3.9990490150000506E-16,
          2.446921290574884E-16,
          7.316706459780304E-16,
          4.595703272282956E-16,
          3.8199080991887327E-16,
          9.846504697973354E-17,
          8.867313267660432E-16,
          4.1867987045047266E-16,
          1.2461904434438208E-15,
          1.823566827606814E-16,
          3.1915155682951747E-16,
          2.897455486651552E-16,
          1.8568654891170048E-16,
          3.887239976651673E-16,
          1.5202677961973967E-16,
          1.5853146128329972E-15,
          1.5701820428421992E-17,
          6.722966525086927E-16,
          4.76247649587214E-16,
          2.0573584177362304E-16,
          6.055729343006206E-17,
          1.0904582883544932E-16,
          4.939858659595023E-16,
          7.531971109704251E-18
         ]
        }
       ],
       "layout": {
        "template": {
         "data": {
          "bar": [
           {
            "error_x": {
             "color": "#2a3f5f"
            },
            "error_y": {
             "color": "#2a3f5f"
            },
            "marker": {
             "line": {
              "color": "#E5ECF6",
              "width": 0.5
             }
            },
            "type": "bar"
           }
          ],
          "barpolar": [
           {
            "marker": {
             "line": {
              "color": "#E5ECF6",
              "width": 0.5
             }
            },
            "type": "barpolar"
           }
          ],
          "carpet": [
           {
            "aaxis": {
             "endlinecolor": "#2a3f5f",
             "gridcolor": "white",
             "linecolor": "white",
             "minorgridcolor": "white",
             "startlinecolor": "#2a3f5f"
            },
            "baxis": {
             "endlinecolor": "#2a3f5f",
             "gridcolor": "white",
             "linecolor": "white",
             "minorgridcolor": "white",
             "startlinecolor": "#2a3f5f"
            },
            "type": "carpet"
           }
          ],
          "choropleth": [
           {
            "colorbar": {
             "outlinewidth": 0,
             "ticks": ""
            },
            "type": "choropleth"
           }
          ],
          "contour": [
           {
            "colorbar": {
             "outlinewidth": 0,
             "ticks": ""
            },
            "colorscale": [
             [
              0,
              "#0d0887"
             ],
             [
              0.1111111111111111,
              "#46039f"
             ],
             [
              0.2222222222222222,
              "#7201a8"
             ],
             [
              0.3333333333333333,
              "#9c179e"
             ],
             [
              0.4444444444444444,
              "#bd3786"
             ],
             [
              0.5555555555555556,
              "#d8576b"
             ],
             [
              0.6666666666666666,
              "#ed7953"
             ],
             [
              0.7777777777777778,
              "#fb9f3a"
             ],
             [
              0.8888888888888888,
              "#fdca26"
             ],
             [
              1,
              "#f0f921"
             ]
            ],
            "type": "contour"
           }
          ],
          "contourcarpet": [
           {
            "colorbar": {
             "outlinewidth": 0,
             "ticks": ""
            },
            "type": "contourcarpet"
           }
          ],
          "heatmap": [
           {
            "colorbar": {
             "outlinewidth": 0,
             "ticks": ""
            },
            "colorscale": [
             [
              0,
              "#0d0887"
             ],
             [
              0.1111111111111111,
              "#46039f"
             ],
             [
              0.2222222222222222,
              "#7201a8"
             ],
             [
              0.3333333333333333,
              "#9c179e"
             ],
             [
              0.4444444444444444,
              "#bd3786"
             ],
             [
              0.5555555555555556,
              "#d8576b"
             ],
             [
              0.6666666666666666,
              "#ed7953"
             ],
             [
              0.7777777777777778,
              "#fb9f3a"
             ],
             [
              0.8888888888888888,
              "#fdca26"
             ],
             [
              1,
              "#f0f921"
             ]
            ],
            "type": "heatmap"
           }
          ],
          "heatmapgl": [
           {
            "colorbar": {
             "outlinewidth": 0,
             "ticks": ""
            },
            "colorscale": [
             [
              0,
              "#0d0887"
             ],
             [
              0.1111111111111111,
              "#46039f"
             ],
             [
              0.2222222222222222,
              "#7201a8"
             ],
             [
              0.3333333333333333,
              "#9c179e"
             ],
             [
              0.4444444444444444,
              "#bd3786"
             ],
             [
              0.5555555555555556,
              "#d8576b"
             ],
             [
              0.6666666666666666,
              "#ed7953"
             ],
             [
              0.7777777777777778,
              "#fb9f3a"
             ],
             [
              0.8888888888888888,
              "#fdca26"
             ],
             [
              1,
              "#f0f921"
             ]
            ],
            "type": "heatmapgl"
           }
          ],
          "histogram": [
           {
            "marker": {
             "colorbar": {
              "outlinewidth": 0,
              "ticks": ""
             }
            },
            "type": "histogram"
           }
          ],
          "histogram2d": [
           {
            "colorbar": {
             "outlinewidth": 0,
             "ticks": ""
            },
            "colorscale": [
             [
              0,
              "#0d0887"
             ],
             [
              0.1111111111111111,
              "#46039f"
             ],
             [
              0.2222222222222222,
              "#7201a8"
             ],
             [
              0.3333333333333333,
              "#9c179e"
             ],
             [
              0.4444444444444444,
              "#bd3786"
             ],
             [
              0.5555555555555556,
              "#d8576b"
             ],
             [
              0.6666666666666666,
              "#ed7953"
             ],
             [
              0.7777777777777778,
              "#fb9f3a"
             ],
             [
              0.8888888888888888,
              "#fdca26"
             ],
             [
              1,
              "#f0f921"
             ]
            ],
            "type": "histogram2d"
           }
          ],
          "histogram2dcontour": [
           {
            "colorbar": {
             "outlinewidth": 0,
             "ticks": ""
            },
            "colorscale": [
             [
              0,
              "#0d0887"
             ],
             [
              0.1111111111111111,
              "#46039f"
             ],
             [
              0.2222222222222222,
              "#7201a8"
             ],
             [
              0.3333333333333333,
              "#9c179e"
             ],
             [
              0.4444444444444444,
              "#bd3786"
             ],
             [
              0.5555555555555556,
              "#d8576b"
             ],
             [
              0.6666666666666666,
              "#ed7953"
             ],
             [
              0.7777777777777778,
              "#fb9f3a"
             ],
             [
              0.8888888888888888,
              "#fdca26"
             ],
             [
              1,
              "#f0f921"
             ]
            ],
            "type": "histogram2dcontour"
           }
          ],
          "mesh3d": [
           {
            "colorbar": {
             "outlinewidth": 0,
             "ticks": ""
            },
            "type": "mesh3d"
           }
          ],
          "parcoords": [
           {
            "line": {
             "colorbar": {
              "outlinewidth": 0,
              "ticks": ""
             }
            },
            "type": "parcoords"
           }
          ],
          "pie": [
           {
            "automargin": true,
            "type": "pie"
           }
          ],
          "scatter": [
           {
            "marker": {
             "colorbar": {
              "outlinewidth": 0,
              "ticks": ""
             }
            },
            "type": "scatter"
           }
          ],
          "scatter3d": [
           {
            "line": {
             "colorbar": {
              "outlinewidth": 0,
              "ticks": ""
             }
            },
            "marker": {
             "colorbar": {
              "outlinewidth": 0,
              "ticks": ""
             }
            },
            "type": "scatter3d"
           }
          ],
          "scattercarpet": [
           {
            "marker": {
             "colorbar": {
              "outlinewidth": 0,
              "ticks": ""
             }
            },
            "type": "scattercarpet"
           }
          ],
          "scattergeo": [
           {
            "marker": {
             "colorbar": {
              "outlinewidth": 0,
              "ticks": ""
             }
            },
            "type": "scattergeo"
           }
          ],
          "scattergl": [
           {
            "marker": {
             "colorbar": {
              "outlinewidth": 0,
              "ticks": ""
             }
            },
            "type": "scattergl"
           }
          ],
          "scattermapbox": [
           {
            "marker": {
             "colorbar": {
              "outlinewidth": 0,
              "ticks": ""
             }
            },
            "type": "scattermapbox"
           }
          ],
          "scatterpolar": [
           {
            "marker": {
             "colorbar": {
              "outlinewidth": 0,
              "ticks": ""
             }
            },
            "type": "scatterpolar"
           }
          ],
          "scatterpolargl": [
           {
            "marker": {
             "colorbar": {
              "outlinewidth": 0,
              "ticks": ""
             }
            },
            "type": "scatterpolargl"
           }
          ],
          "scatterternary": [
           {
            "marker": {
             "colorbar": {
              "outlinewidth": 0,
              "ticks": ""
             }
            },
            "type": "scatterternary"
           }
          ],
          "surface": [
           {
            "colorbar": {
             "outlinewidth": 0,
             "ticks": ""
            },
            "colorscale": [
             [
              0,
              "#0d0887"
             ],
             [
              0.1111111111111111,
              "#46039f"
             ],
             [
              0.2222222222222222,
              "#7201a8"
             ],
             [
              0.3333333333333333,
              "#9c179e"
             ],
             [
              0.4444444444444444,
              "#bd3786"
             ],
             [
              0.5555555555555556,
              "#d8576b"
             ],
             [
              0.6666666666666666,
              "#ed7953"
             ],
             [
              0.7777777777777778,
              "#fb9f3a"
             ],
             [
              0.8888888888888888,
              "#fdca26"
             ],
             [
              1,
              "#f0f921"
             ]
            ],
            "type": "surface"
           }
          ],
          "table": [
           {
            "cells": {
             "fill": {
              "color": "#EBF0F8"
             },
             "line": {
              "color": "white"
             }
            },
            "header": {
             "fill": {
              "color": "#C8D4E3"
             },
             "line": {
              "color": "white"
             }
            },
            "type": "table"
           }
          ]
         },
         "layout": {
          "annotationdefaults": {
           "arrowcolor": "#2a3f5f",
           "arrowhead": 0,
           "arrowwidth": 1
          },
          "coloraxis": {
           "colorbar": {
            "outlinewidth": 0,
            "ticks": ""
           }
          },
          "colorscale": {
           "diverging": [
            [
             0,
             "#8e0152"
            ],
            [
             0.1,
             "#c51b7d"
            ],
            [
             0.2,
             "#de77ae"
            ],
            [
             0.3,
             "#f1b6da"
            ],
            [
             0.4,
             "#fde0ef"
            ],
            [
             0.5,
             "#f7f7f7"
            ],
            [
             0.6,
             "#e6f5d0"
            ],
            [
             0.7,
             "#b8e186"
            ],
            [
             0.8,
             "#7fbc41"
            ],
            [
             0.9,
             "#4d9221"
            ],
            [
             1,
             "#276419"
            ]
           ],
           "sequential": [
            [
             0,
             "#0d0887"
            ],
            [
             0.1111111111111111,
             "#46039f"
            ],
            [
             0.2222222222222222,
             "#7201a8"
            ],
            [
             0.3333333333333333,
             "#9c179e"
            ],
            [
             0.4444444444444444,
             "#bd3786"
            ],
            [
             0.5555555555555556,
             "#d8576b"
            ],
            [
             0.6666666666666666,
             "#ed7953"
            ],
            [
             0.7777777777777778,
             "#fb9f3a"
            ],
            [
             0.8888888888888888,
             "#fdca26"
            ],
            [
             1,
             "#f0f921"
            ]
           ],
           "sequentialminus": [
            [
             0,
             "#0d0887"
            ],
            [
             0.1111111111111111,
             "#46039f"
            ],
            [
             0.2222222222222222,
             "#7201a8"
            ],
            [
             0.3333333333333333,
             "#9c179e"
            ],
            [
             0.4444444444444444,
             "#bd3786"
            ],
            [
             0.5555555555555556,
             "#d8576b"
            ],
            [
             0.6666666666666666,
             "#ed7953"
            ],
            [
             0.7777777777777778,
             "#fb9f3a"
            ],
            [
             0.8888888888888888,
             "#fdca26"
            ],
            [
             1,
             "#f0f921"
            ]
           ]
          },
          "colorway": [
           "#636efa",
           "#EF553B",
           "#00cc96",
           "#ab63fa",
           "#FFA15A",
           "#19d3f3",
           "#FF6692",
           "#B6E880",
           "#FF97FF",
           "#FECB52"
          ],
          "font": {
           "color": "#2a3f5f"
          },
          "geo": {
           "bgcolor": "white",
           "lakecolor": "white",
           "landcolor": "#E5ECF6",
           "showlakes": true,
           "showland": true,
           "subunitcolor": "white"
          },
          "hoverlabel": {
           "align": "left"
          },
          "hovermode": "closest",
          "mapbox": {
           "style": "light"
          },
          "paper_bgcolor": "white",
          "plot_bgcolor": "#E5ECF6",
          "polar": {
           "angularaxis": {
            "gridcolor": "white",
            "linecolor": "white",
            "ticks": ""
           },
           "bgcolor": "#E5ECF6",
           "radialaxis": {
            "gridcolor": "white",
            "linecolor": "white",
            "ticks": ""
           }
          },
          "scene": {
           "xaxis": {
            "backgroundcolor": "#E5ECF6",
            "gridcolor": "white",
            "gridwidth": 2,
            "linecolor": "white",
            "showbackground": true,
            "ticks": "",
            "zerolinecolor": "white"
           },
           "yaxis": {
            "backgroundcolor": "#E5ECF6",
            "gridcolor": "white",
            "gridwidth": 2,
            "linecolor": "white",
            "showbackground": true,
            "ticks": "",
            "zerolinecolor": "white"
           },
           "zaxis": {
            "backgroundcolor": "#E5ECF6",
            "gridcolor": "white",
            "gridwidth": 2,
            "linecolor": "white",
            "showbackground": true,
            "ticks": "",
            "zerolinecolor": "white"
           }
          },
          "shapedefaults": {
           "line": {
            "color": "#2a3f5f"
           }
          },
          "ternary": {
           "aaxis": {
            "gridcolor": "white",
            "linecolor": "white",
            "ticks": ""
           },
           "baxis": {
            "gridcolor": "white",
            "linecolor": "white",
            "ticks": ""
           },
           "bgcolor": "#E5ECF6",
           "caxis": {
            "gridcolor": "white",
            "linecolor": "white",
            "ticks": ""
           }
          },
          "title": {
           "x": 0.05
          },
          "xaxis": {
           "automargin": true,
           "gridcolor": "white",
           "linecolor": "white",
           "ticks": "",
           "title": {
            "standoff": 15
           },
           "zerolinecolor": "white",
           "zerolinewidth": 2
          },
          "yaxis": {
           "automargin": true,
           "gridcolor": "white",
           "linecolor": "white",
           "ticks": "",
           "title": {
            "standoff": 15
           },
           "zerolinecolor": "white",
           "zerolinewidth": 2
          }
         }
        },
        "title": {
         "text": "Double relative error"
        },
        "xaxis": {
         "title": {
          "text": "x"
         }
        },
        "yaxis": {
         "exponentformat": "e",
         "title": {
          "text": "Log error"
         },
         "type": "log"
        }
       }
      },
      "text/html": [
       "<div>                            <div id=\"29495273-a110-45cc-9033-3f09acec4139\" class=\"plotly-graph-div\" style=\"height:525px; width:100%;\"></div>            <script type=\"text/javascript\">                require([\"plotly\"], function(Plotly) {                    window.PLOTLYENV=window.PLOTLYENV || {};                                    if (document.getElementById(\"29495273-a110-45cc-9033-3f09acec4139\")) {                    Plotly.newPlot(                        \"29495273-a110-45cc-9033-3f09acec4139\",                        [{\"mode\": \"lines+markers\", \"type\": \"scatter\", \"x\": [0, -1, -2, -3, -4, -5, -6, -7, -8, -9, -10, -11, -12, -13, -14, -15, -16, -17, -18, -19, -20, -21, -22, -23, -24, -25, -26, -27, -28, -29, -30, -31, -32, -33, -34, -35, -36, -37, -38, -39, -40, -41, -42, -43, -44, -45, -46, -47, -48, -49], \"y\": [0.0, 1.1714989078776585e-16, 2.8209546014617974e-16, 3.0854979083925264e-16, 4.675514268851592e-16, 3.719783624397255e-16, 2.7337398396751835e-17, 8.714677482615866e-16, 2.0452253998182132e-16, 1.2472410074952967e-16, 2.0734206903183193e-16, 2.971603753203847e-18, 4.213844132337843e-16, 3.815089012792547e-17, 3.9038542407619167e-16, 3.54232880831644e-16, 1.7284968136045698e-17, 7.577763989921291e-16, 1.701513597654938e-16, 9.659849253633209e-17, 2.2103911459967045e-16, 2.554130751961734e-16, 2.460584145663322e-16, 1.1746185946811761e-17, 1.7795231905158492e-16, 1.3802849567408046e-16, 3.9990490150000506e-16, 2.446921290574884e-16, 7.316706459780304e-16, 4.595703272282956e-16, 3.8199080991887327e-16, 9.846504697973354e-17, 8.867313267660432e-16, 4.1867987045047266e-16, 1.2461904434438208e-15, 1.823566827606814e-16, 3.1915155682951747e-16, 2.897455486651552e-16, 1.8568654891170048e-16, 3.887239976651673e-16, 1.5202677961973967e-16, 1.5853146128329972e-15, 1.5701820428421992e-17, 6.722966525086927e-16, 4.76247649587214e-16, 2.0573584177362304e-16, 6.055729343006206e-17, 1.0904582883544932e-16, 4.939858659595023e-16, 7.531971109704251e-18]}],                        {\"template\": {\"data\": {\"bar\": [{\"error_x\": {\"color\": \"#2a3f5f\"}, \"error_y\": {\"color\": \"#2a3f5f\"}, \"marker\": {\"line\": {\"color\": \"#E5ECF6\", \"width\": 0.5}}, \"type\": \"bar\"}], \"barpolar\": [{\"marker\": {\"line\": {\"color\": \"#E5ECF6\", \"width\": 0.5}}, \"type\": \"barpolar\"}], \"carpet\": [{\"aaxis\": {\"endlinecolor\": \"#2a3f5f\", \"gridcolor\": \"white\", \"linecolor\": \"white\", \"minorgridcolor\": \"white\", \"startlinecolor\": \"#2a3f5f\"}, \"baxis\": {\"endlinecolor\": \"#2a3f5f\", \"gridcolor\": \"white\", \"linecolor\": \"white\", \"minorgridcolor\": \"white\", \"startlinecolor\": \"#2a3f5f\"}, \"type\": \"carpet\"}], \"choropleth\": [{\"colorbar\": {\"outlinewidth\": 0, \"ticks\": \"\"}, \"type\": \"choropleth\"}], \"contour\": [{\"colorbar\": {\"outlinewidth\": 0, \"ticks\": \"\"}, \"colorscale\": [[0.0, \"#0d0887\"], [0.1111111111111111, \"#46039f\"], [0.2222222222222222, \"#7201a8\"], [0.3333333333333333, \"#9c179e\"], [0.4444444444444444, \"#bd3786\"], [0.5555555555555556, \"#d8576b\"], [0.6666666666666666, \"#ed7953\"], [0.7777777777777778, \"#fb9f3a\"], [0.8888888888888888, \"#fdca26\"], [1.0, \"#f0f921\"]], \"type\": \"contour\"}], \"contourcarpet\": [{\"colorbar\": {\"outlinewidth\": 0, \"ticks\": \"\"}, \"type\": \"contourcarpet\"}], \"heatmap\": [{\"colorbar\": {\"outlinewidth\": 0, \"ticks\": \"\"}, \"colorscale\": [[0.0, \"#0d0887\"], [0.1111111111111111, \"#46039f\"], [0.2222222222222222, \"#7201a8\"], [0.3333333333333333, \"#9c179e\"], [0.4444444444444444, \"#bd3786\"], [0.5555555555555556, \"#d8576b\"], [0.6666666666666666, \"#ed7953\"], [0.7777777777777778, \"#fb9f3a\"], [0.8888888888888888, \"#fdca26\"], [1.0, \"#f0f921\"]], \"type\": \"heatmap\"}], \"heatmapgl\": [{\"colorbar\": {\"outlinewidth\": 0, \"ticks\": \"\"}, \"colorscale\": [[0.0, \"#0d0887\"], [0.1111111111111111, \"#46039f\"], [0.2222222222222222, \"#7201a8\"], [0.3333333333333333, \"#9c179e\"], [0.4444444444444444, \"#bd3786\"], [0.5555555555555556, \"#d8576b\"], [0.6666666666666666, \"#ed7953\"], [0.7777777777777778, \"#fb9f3a\"], [0.8888888888888888, \"#fdca26\"], [1.0, \"#f0f921\"]], \"type\": \"heatmapgl\"}], \"histogram\": [{\"marker\": {\"colorbar\": {\"outlinewidth\": 0, \"ticks\": \"\"}}, \"type\": \"histogram\"}], \"histogram2d\": [{\"colorbar\": {\"outlinewidth\": 0, \"ticks\": \"\"}, \"colorscale\": [[0.0, \"#0d0887\"], [0.1111111111111111, \"#46039f\"], [0.2222222222222222, \"#7201a8\"], [0.3333333333333333, \"#9c179e\"], [0.4444444444444444, \"#bd3786\"], [0.5555555555555556, \"#d8576b\"], [0.6666666666666666, \"#ed7953\"], [0.7777777777777778, \"#fb9f3a\"], [0.8888888888888888, \"#fdca26\"], [1.0, \"#f0f921\"]], \"type\": \"histogram2d\"}], \"histogram2dcontour\": [{\"colorbar\": {\"outlinewidth\": 0, \"ticks\": \"\"}, \"colorscale\": [[0.0, \"#0d0887\"], [0.1111111111111111, \"#46039f\"], [0.2222222222222222, \"#7201a8\"], [0.3333333333333333, \"#9c179e\"], [0.4444444444444444, \"#bd3786\"], [0.5555555555555556, \"#d8576b\"], [0.6666666666666666, \"#ed7953\"], [0.7777777777777778, \"#fb9f3a\"], [0.8888888888888888, \"#fdca26\"], [1.0, \"#f0f921\"]], \"type\": \"histogram2dcontour\"}], \"mesh3d\": [{\"colorbar\": {\"outlinewidth\": 0, \"ticks\": \"\"}, \"type\": \"mesh3d\"}], \"parcoords\": [{\"line\": {\"colorbar\": {\"outlinewidth\": 0, \"ticks\": \"\"}}, \"type\": \"parcoords\"}], \"pie\": [{\"automargin\": true, \"type\": \"pie\"}], \"scatter\": [{\"marker\": {\"colorbar\": {\"outlinewidth\": 0, \"ticks\": \"\"}}, \"type\": \"scatter\"}], \"scatter3d\": [{\"line\": {\"colorbar\": {\"outlinewidth\": 0, \"ticks\": \"\"}}, \"marker\": {\"colorbar\": {\"outlinewidth\": 0, \"ticks\": \"\"}}, \"type\": \"scatter3d\"}], \"scattercarpet\": [{\"marker\": {\"colorbar\": {\"outlinewidth\": 0, \"ticks\": \"\"}}, \"type\": \"scattercarpet\"}], \"scattergeo\": [{\"marker\": {\"colorbar\": {\"outlinewidth\": 0, \"ticks\": \"\"}}, \"type\": \"scattergeo\"}], \"scattergl\": [{\"marker\": {\"colorbar\": {\"outlinewidth\": 0, \"ticks\": \"\"}}, \"type\": \"scattergl\"}], \"scattermapbox\": [{\"marker\": {\"colorbar\": {\"outlinewidth\": 0, \"ticks\": \"\"}}, \"type\": \"scattermapbox\"}], \"scatterpolar\": [{\"marker\": {\"colorbar\": {\"outlinewidth\": 0, \"ticks\": \"\"}}, \"type\": \"scatterpolar\"}], \"scatterpolargl\": [{\"marker\": {\"colorbar\": {\"outlinewidth\": 0, \"ticks\": \"\"}}, \"type\": \"scatterpolargl\"}], \"scatterternary\": [{\"marker\": {\"colorbar\": {\"outlinewidth\": 0, \"ticks\": \"\"}}, \"type\": \"scatterternary\"}], \"surface\": [{\"colorbar\": {\"outlinewidth\": 0, \"ticks\": \"\"}, \"colorscale\": [[0.0, \"#0d0887\"], [0.1111111111111111, \"#46039f\"], [0.2222222222222222, \"#7201a8\"], [0.3333333333333333, \"#9c179e\"], [0.4444444444444444, \"#bd3786\"], [0.5555555555555556, \"#d8576b\"], [0.6666666666666666, \"#ed7953\"], [0.7777777777777778, \"#fb9f3a\"], [0.8888888888888888, \"#fdca26\"], [1.0, \"#f0f921\"]], \"type\": \"surface\"}], \"table\": [{\"cells\": {\"fill\": {\"color\": \"#EBF0F8\"}, \"line\": {\"color\": \"white\"}}, \"header\": {\"fill\": {\"color\": \"#C8D4E3\"}, \"line\": {\"color\": \"white\"}}, \"type\": \"table\"}]}, \"layout\": {\"annotationdefaults\": {\"arrowcolor\": \"#2a3f5f\", \"arrowhead\": 0, \"arrowwidth\": 1}, \"coloraxis\": {\"colorbar\": {\"outlinewidth\": 0, \"ticks\": \"\"}}, \"colorscale\": {\"diverging\": [[0, \"#8e0152\"], [0.1, \"#c51b7d\"], [0.2, \"#de77ae\"], [0.3, \"#f1b6da\"], [0.4, \"#fde0ef\"], [0.5, \"#f7f7f7\"], [0.6, \"#e6f5d0\"], [0.7, \"#b8e186\"], [0.8, \"#7fbc41\"], [0.9, \"#4d9221\"], [1, \"#276419\"]], \"sequential\": [[0.0, \"#0d0887\"], [0.1111111111111111, \"#46039f\"], [0.2222222222222222, \"#7201a8\"], [0.3333333333333333, \"#9c179e\"], [0.4444444444444444, \"#bd3786\"], [0.5555555555555556, \"#d8576b\"], [0.6666666666666666, \"#ed7953\"], [0.7777777777777778, \"#fb9f3a\"], [0.8888888888888888, \"#fdca26\"], [1.0, \"#f0f921\"]], \"sequentialminus\": [[0.0, \"#0d0887\"], [0.1111111111111111, \"#46039f\"], [0.2222222222222222, \"#7201a8\"], [0.3333333333333333, \"#9c179e\"], [0.4444444444444444, \"#bd3786\"], [0.5555555555555556, \"#d8576b\"], [0.6666666666666666, \"#ed7953\"], [0.7777777777777778, \"#fb9f3a\"], [0.8888888888888888, \"#fdca26\"], [1.0, \"#f0f921\"]]}, \"colorway\": [\"#636efa\", \"#EF553B\", \"#00cc96\", \"#ab63fa\", \"#FFA15A\", \"#19d3f3\", \"#FF6692\", \"#B6E880\", \"#FF97FF\", \"#FECB52\"], \"font\": {\"color\": \"#2a3f5f\"}, \"geo\": {\"bgcolor\": \"white\", \"lakecolor\": \"white\", \"landcolor\": \"#E5ECF6\", \"showlakes\": true, \"showland\": true, \"subunitcolor\": \"white\"}, \"hoverlabel\": {\"align\": \"left\"}, \"hovermode\": \"closest\", \"mapbox\": {\"style\": \"light\"}, \"paper_bgcolor\": \"white\", \"plot_bgcolor\": \"#E5ECF6\", \"polar\": {\"angularaxis\": {\"gridcolor\": \"white\", \"linecolor\": \"white\", \"ticks\": \"\"}, \"bgcolor\": \"#E5ECF6\", \"radialaxis\": {\"gridcolor\": \"white\", \"linecolor\": \"white\", \"ticks\": \"\"}}, \"scene\": {\"xaxis\": {\"backgroundcolor\": \"#E5ECF6\", \"gridcolor\": \"white\", \"gridwidth\": 2, \"linecolor\": \"white\", \"showbackground\": true, \"ticks\": \"\", \"zerolinecolor\": \"white\"}, \"yaxis\": {\"backgroundcolor\": \"#E5ECF6\", \"gridcolor\": \"white\", \"gridwidth\": 2, \"linecolor\": \"white\", \"showbackground\": true, \"ticks\": \"\", \"zerolinecolor\": \"white\"}, \"zaxis\": {\"backgroundcolor\": \"#E5ECF6\", \"gridcolor\": \"white\", \"gridwidth\": 2, \"linecolor\": \"white\", \"showbackground\": true, \"ticks\": \"\", \"zerolinecolor\": \"white\"}}, \"shapedefaults\": {\"line\": {\"color\": \"#2a3f5f\"}}, \"ternary\": {\"aaxis\": {\"gridcolor\": \"white\", \"linecolor\": \"white\", \"ticks\": \"\"}, \"baxis\": {\"gridcolor\": \"white\", \"linecolor\": \"white\", \"ticks\": \"\"}, \"bgcolor\": \"#E5ECF6\", \"caxis\": {\"gridcolor\": \"white\", \"linecolor\": \"white\", \"ticks\": \"\"}}, \"title\": {\"x\": 0.05}, \"xaxis\": {\"automargin\": true, \"gridcolor\": \"white\", \"linecolor\": \"white\", \"ticks\": \"\", \"title\": {\"standoff\": 15}, \"zerolinecolor\": \"white\", \"zerolinewidth\": 2}, \"yaxis\": {\"automargin\": true, \"gridcolor\": \"white\", \"linecolor\": \"white\", \"ticks\": \"\", \"title\": {\"standoff\": 15}, \"zerolinecolor\": \"white\", \"zerolinewidth\": 2}}}, \"title\": {\"text\": \"Double relative error\"}, \"xaxis\": {\"title\": {\"text\": \"x\"}}, \"yaxis\": {\"exponentformat\": \"e\", \"title\": {\"text\": \"Log error\"}, \"type\": \"log\"}},                        {\"responsive\": true}                    ).then(function(){\n",
       "                            \n",
       "var gd = document.getElementById('29495273-a110-45cc-9033-3f09acec4139');\n",
       "var x = new MutationObserver(function (mutations, observer) {{\n",
       "        var display = window.getComputedStyle(gd).display;\n",
       "        if (!display || display === 'none') {{\n",
       "            console.log([gd, 'removed!']);\n",
       "            Plotly.purge(gd);\n",
       "            observer.disconnect();\n",
       "        }}\n",
       "}});\n",
       "\n",
       "// Listen for the removal of the full notebook cells\n",
       "var notebookContainer = gd.closest('#notebook-container');\n",
       "if (notebookContainer) {{\n",
       "    x.observe(notebookContainer, {childList: true});\n",
       "}}\n",
       "\n",
       "// Listen for the clearing of the current output cell\n",
       "var outputEl = gd.closest('.output');\n",
       "if (outputEl) {{\n",
       "    x.observe(outputEl, {childList: true});\n",
       "}}\n",
       "\n",
       "                        })                };                });            </script>        </div>"
      ]
     },
     "metadata": {},
     "output_type": "display_data"
    }
   ],
   "source": [
    "double_values = [inverse_exponent(Double(i)) for i in x_range]\n",
    "double_relative_errors = get_relative_error(numpy_values, double_values)\n",
    "fig = go.Figure()\n",
    "fig.add_trace(go.Scatter(x=-x_range, y=double_relative_errors, mode='lines+markers'))\n",
    "fig.update_layout(\n",
    "    yaxis={\"title\": \"Log error\", \"exponentformat\": \"e\"}, xaxis={\"title\": \"x\"}, title=\"Double relative error\"\n",
    ")\n",
    "fig.update_yaxes(type=\"log\")\n",
    "fig.show()"
   ]
  },
  {
   "cell_type": "code",
   "execution_count": 6,
   "metadata": {
    "pycharm": {
     "name": "#%%\n"
    }
   },
   "outputs": [
    {
     "data": {
      "application/vnd.plotly.v1+json": {
       "config": {
        "plotlyServerURL": "https://plot.ly"
       },
       "data": [
        {
         "mode": "lines+markers",
         "name": "Float relative error (x=-10)",
         "type": "scatter",
         "x": [
          0,
          1,
          2,
          3,
          4,
          5,
          6,
          7,
          8,
          9,
          10,
          11,
          12,
          13,
          14,
          15,
          16,
          17,
          18,
          19,
          20,
          21,
          22,
          23,
          24,
          25,
          26,
          27,
          28,
          29,
          30,
          31,
          32,
          33,
          34,
          35,
          36,
          37,
          38,
          39,
          40,
          41,
          42,
          43,
          44,
          45,
          46,
          47,
          48,
          49,
          50,
          51,
          52,
          53,
          54,
          55,
          56,
          57,
          58,
          59,
          60,
          61,
          62,
          63,
          64,
          65,
          66,
          67,
          68,
          69,
          70,
          71,
          72,
          73,
          74,
          75,
          76,
          77,
          78,
          79,
          80,
          81,
          82,
          83,
          84,
          85,
          86,
          87,
          88,
          89,
          90,
          91,
          92,
          93,
          94,
          95,
          96,
          97,
          98,
          99
         ],
         "y": [
          22025.465794806718,
          22025.465794806718,
          2001.4060410224138,
          360.0895830160988,
          95.74874910798219,
          33.18489160583428,
          13.906247295845839,
          6.683948151118859,
          3.540900119479235,
          2.004629935737924,
          1.1837410245456754,
          0.7151487565821156,
          0.4351810134189458,
          0.2633336067517073,
          0.15678553661273686,
          0.09105797566106537,
          0.05123767179804078,
          0.027793105803042607,
          0.014484333051285735,
          0.007238493743307557,
          0.0034662083847480977,
          0.0015906431051482435,
          7.000581048289758E-4,
          2.9579309433674044E-4,
          1.2006402238243469E-4,
          4.690367459662478E-5,
          1.7575430029695508E-5,
          6.356975823766277E-6,
          2.1901214044211348E-6,
          6.676169050450249E-7,
          1.0669419474856341E-7,
          5.35694367647113E-8,
          1.3370125252134865E-7,
          1.3370125252134865E-7,
          1.3370125252134865E-7,
          1.3370125252134865E-7,
          1.3370125252134865E-7,
          1.3370125252134865E-7,
          1.3370125252134865E-7,
          1.3370125252134865E-7,
          1.3370125252134865E-7,
          1.3370125252134865E-7,
          1.3370125252134865E-7,
          1.3370125252134865E-7,
          1.3370125252134865E-7,
          1.3370125252134865E-7,
          1.3370125252134865E-7,
          1.3370125252134865E-7,
          1.3370125252134865E-7,
          1.3370125252134865E-7,
          1.3370125252134865E-7,
          1.3370125252134865E-7,
          1.3370125252134865E-7,
          1.3370125252134865E-7,
          1.3370125252134865E-7,
          1.3370125252134865E-7,
          1.3370125252134865E-7,
          1.3370125252134865E-7,
          1.3370125252134865E-7,
          1.3370125252134865E-7,
          1.3370125252134865E-7,
          1.3370125252134865E-7,
          1.3370125252134865E-7,
          1.3370125252134865E-7,
          1.3370125252134865E-7,
          1.3370125252134865E-7,
          1.3370125252134865E-7,
          1.3370125252134865E-7,
          1.3370125252134865E-7,
          1.3370125252134865E-7,
          1.3370125252134865E-7,
          1.3370125252134865E-7,
          1.3370125252134865E-7,
          1.3370125252134865E-7,
          1.3370125252134865E-7,
          1.3370125252134865E-7,
          1.3370125252134865E-7,
          1.3370125252134865E-7,
          1.3370125252134865E-7,
          1.3370125252134865E-7,
          1.3370125252134865E-7,
          1.3370125252134865E-7,
          1.3370125252134865E-7,
          1.3370125252134865E-7,
          1.3370125252134865E-7,
          1.3370125252134865E-7,
          1.3370125252134865E-7,
          1.3370125252134865E-7,
          1.3370125252134865E-7,
          1.3370125252134865E-7,
          1.3370125252134865E-7,
          1.3370125252134865E-7,
          1.3370125252134865E-7,
          1.3370125252134865E-7,
          1.3370125252134865E-7,
          1.3370125252134865E-7,
          1.3370125252134865E-7,
          1.3370125252134865E-7,
          1.3370125252134865E-7,
          1.3370125252134865E-7
         ]
        },
        {
         "mode": "lines+markers",
         "name": "Float relative error (x=-20)",
         "type": "scatter",
         "x": [
          0,
          1,
          2,
          3,
          4,
          5,
          6,
          7,
          8,
          9,
          10,
          11,
          12,
          13,
          14,
          15,
          16,
          17,
          18,
          19,
          20,
          21,
          22,
          23,
          24,
          25,
          26,
          27,
          28,
          29,
          30,
          31,
          32,
          33,
          34,
          35,
          36,
          37,
          38,
          39,
          40,
          41,
          42,
          43,
          44,
          45,
          46,
          47,
          48,
          49,
          50,
          51,
          52,
          53,
          54,
          55,
          56,
          57,
          58,
          59,
          60,
          61,
          62,
          63,
          64,
          65,
          66,
          67,
          68,
          69,
          70,
          71,
          72,
          73,
          74,
          75,
          76,
          77,
          78,
          79,
          80,
          81,
          82,
          83,
          84,
          85,
          86,
          87,
          88,
          89,
          90,
          91,
          92,
          93,
          94,
          95,
          96,
          97,
          98,
          99
         ],
         "y": [
          4.851651944097903E8,
          4.851651944097903E8,
          2.3103103973652203E7,
          2195316.721360166,
          312136.16115058254,
          59014.35210779925,
          13905.495714954523,
          3918.6856021337244,
          1283.3727993486557,
          478.09716333604996,
          199.18365596319254,
          91.49222799981092,
          45.75776316420572,
          24.633138784942634,
          14.122268158051824,
          8.53613449865074,
          5.389239192122548,
          3.523367554719658,
          2.3666811048364327,
          1.6217680373894814,
          1.126495300491246,
          0.7886123378090667,
          0.5535242711190739,
          0.3877105736506712,
          0.26985278159074744,
          0.185919605207752,
          0.12636060626839613,
          0.08446538808501491,
          0.05538736153284749,
          0.035554147986758905,
          0.0223047503592229,
          0.013658583594809719,
          0.00815765268997375,
          0.004749775200527749,
          0.0026955039782275104,
          0.0014911014261630772,
          8.041179669041424E-4,
          4.2286746316925615E-4,
          2.1699865485126584E-4,
          1.0862397082829447E-4,
          5.314388904715109E-5,
          2.534998399951033E-5,
          1.1776216418104373E-5,
          5.312517569815824E-6,
          2.4038530880859764E-6,
          1.003385004290124E-6,
          4.6474343359941163E-7,
          1.4155849118498414E-7,
          3.383017704684165E-8,
          7.389813709130085E-8,
          7.389813709130085E-8,
          7.389813709130085E-8,
          7.389813709130085E-8,
          7.389813709130085E-8,
          7.389813709130085E-8,
          7.389813709130085E-8,
          7.389813709130085E-8,
          7.389813709130085E-8,
          7.389813709130085E-8,
          7.389813709130085E-8,
          7.389813709130085E-8,
          7.389813709130085E-8,
          7.389813709130085E-8,
          7.389813709130085E-8,
          7.389813709130085E-8,
          7.389813709130085E-8,
          7.389813709130085E-8,
          7.389813709130085E-8,
          7.389813709130085E-8,
          7.389813709130085E-8,
          7.389813709130085E-8,
          7.389813709130085E-8,
          7.389813709130085E-8,
          7.389813709130085E-8,
          7.389813709130085E-8,
          7.389813709130085E-8,
          7.389813709130085E-8,
          7.389813709130085E-8,
          7.389813709130085E-8,
          7.389813709130085E-8,
          7.389813709130085E-8,
          7.389813709130085E-8,
          7.389813709130085E-8,
          7.389813709130085E-8,
          7.389813709130085E-8,
          7.389813709130085E-8,
          7.389813709130085E-8,
          7.389813709130085E-8,
          7.389813709130085E-8,
          7.389813709130085E-8,
          7.389813709130085E-8,
          7.389813709130085E-8,
          7.389813709130085E-8,
          7.389813709130085E-8,
          7.389813709130085E-8,
          7.389813709130085E-8,
          7.389813709130085E-8,
          7.389813709130085E-8,
          7.389813709130085E-8,
          7.389813709130085E-8
         ]
        },
        {
         "mode": "lines+markers",
         "name": "Double relative error (x=-10)",
         "type": "scatter",
         "x": [
          0,
          1,
          2,
          3,
          4,
          5,
          6,
          7,
          8,
          9,
          10,
          11,
          12,
          13,
          14,
          15,
          16,
          17,
          18,
          19,
          20,
          21,
          22,
          23,
          24,
          25,
          26,
          27,
          28,
          29,
          30,
          31,
          32,
          33,
          34,
          35,
          36,
          37,
          38,
          39,
          40,
          41,
          42,
          43,
          44,
          45,
          46,
          47,
          48,
          49,
          50,
          51,
          52,
          53,
          54,
          55,
          56,
          57,
          58,
          59,
          60,
          61,
          62,
          63,
          64,
          65,
          66,
          67,
          68,
          69,
          70,
          71,
          72,
          73,
          74,
          75,
          76,
          77,
          78,
          79,
          80,
          81,
          82,
          83,
          84,
          85,
          86,
          87,
          88,
          89,
          90,
          91,
          92,
          93,
          94,
          95,
          96,
          97,
          98,
          99
         ],
         "y": [
          22025.465794806718,
          22025.465794806718,
          2001.4059813460651,
          360.08960319355276,
          95.74875166093726,
          33.18489259411286,
          13.90624800009478,
          6.683948686121961,
          3.54090029900169,
          2.004630025945664,
          1.18374123451093,
          0.7151489236694432,
          0.43518116299720055,
          0.26333373526861525,
          0.15678560486042764,
          0.09105803771039976,
          0.051237752000891444,
          0.027793182171768,
          0.014484416499001052,
          0.00723852429200404,
          0.0034663158160818507,
          0.0015907872466632857,
          7.001403659004939E-4,
          2.958242941386808E-4,
          1.201365850155851E-4,
          4.6951585774753896E-5,
          1.7680585015225946E-5,
          6.422964052835731E-6,
          2.253539129300219E-6,
          7.644672253620408E-7,
          2.509951832812479E-7,
          7.983795298833203E-8,
          2.4625955691431586E-8,
          7.372207870135867E-9,
          2.143799584174389E-9,
          6.060323973453841E-10,
          1.6667042925546161E-10,
          4.462540495111914E-11,
          1.1640323756893304E-11,
          2.95997638698633E-12,
          7.342539463505887E-13,
          1.7782333619165336E-13,
          4.199934068611925E-14,
          9.6105417578765E-15,
          2.2969419998862027E-15,
          6.551134827863399E-16,
          2.0734206903183193E-16,
          2.0734206903183193E-16,
          2.0734206903183193E-16,
          2.0734206903183193E-16,
          2.0734206903183193E-16,
          2.0734206903183193E-16,
          2.0734206903183193E-16,
          2.0734206903183193E-16,
          2.0734206903183193E-16,
          2.0734206903183193E-16,
          2.0734206903183193E-16,
          2.0734206903183193E-16,
          2.0734206903183193E-16,
          2.0734206903183193E-16,
          2.0734206903183193E-16,
          2.0734206903183193E-16,
          2.0734206903183193E-16,
          2.0734206903183193E-16,
          2.0734206903183193E-16,
          2.0734206903183193E-16,
          2.0734206903183193E-16,
          2.0734206903183193E-16,
          2.0734206903183193E-16,
          2.0734206903183193E-16,
          2.0734206903183193E-16,
          2.0734206903183193E-16,
          2.0734206903183193E-16,
          2.0734206903183193E-16,
          2.0734206903183193E-16,
          2.0734206903183193E-16,
          2.0734206903183193E-16,
          2.0734206903183193E-16,
          2.0734206903183193E-16,
          2.0734206903183193E-16,
          2.0734206903183193E-16,
          2.0734206903183193E-16,
          2.0734206903183193E-16,
          2.0734206903183193E-16,
          2.0734206903183193E-16,
          2.0734206903183193E-16,
          2.0734206903183193E-16,
          2.0734206903183193E-16,
          2.0734206903183193E-16,
          2.0734206903183193E-16,
          2.0734206903183193E-16,
          2.0734206903183193E-16,
          2.0734206903183193E-16,
          2.0734206903183193E-16,
          2.0734206903183193E-16,
          2.0734206903183193E-16,
          2.0734206903183193E-16,
          2.0734206903183193E-16,
          2.0734206903183193E-16,
          2.0734206903183193E-16
         ]
        },
        {
         "mode": "lines+markers",
         "name": "Double relative error (x=-20)",
         "type": "scatter",
         "x": [
          0,
          1,
          2,
          3,
          4,
          5,
          6,
          7,
          8,
          9,
          10,
          11,
          12,
          13,
          14,
          15,
          16,
          17,
          18,
          19,
          20,
          21,
          22,
          23,
          24,
          25,
          26,
          27,
          28,
          29,
          30,
          31,
          32,
          33,
          34,
          35,
          36,
          37,
          38,
          39,
          40,
          41,
          42,
          43,
          44,
          45,
          46,
          47,
          48,
          49,
          50,
          51,
          52,
          53,
          54,
          55,
          56,
          57,
          58,
          59,
          60,
          61,
          62,
          63,
          64,
          65,
          66,
          67,
          68,
          69,
          70,
          71,
          72,
          73,
          74,
          75,
          76,
          77,
          78,
          79,
          80,
          81,
          82,
          83,
          84,
          85,
          86,
          87,
          88,
          89,
          90,
          91,
          92,
          93,
          94,
          95,
          96,
          97,
          98,
          99
         ],
         "y": [
          4.851651944097903E8,
          4.851651944097903E8,
          2.3103103543323345E7,
          2195316.626288644,
          312136.16196212114,
          59014.350372191984,
          13905.495955871425,
          3918.685704875105,
          1283.3728971984988,
          478.0972162340895,
          199.1836761976498,
          91.49223144194522,
          45.75776603451668,
          24.633143216164093,
          14.122269379267653,
          8.536135559545233,
          5.389240125448693,
          3.523368140509798,
          2.3666814586987712,
          1.6217683629624147,
          1.126495581283288,
          0.7886125271628514,
          0.5535243952863278,
          0.38771060092113047,
          0.26985285285296257,
          0.18591974820097912,
          0.12636075001052247,
          0.08446552928589231,
          0.055387488108101755,
          0.035554223608704034,
          0.022304870031790387,
          0.013658728290323515,
          0.008157765305339933,
          0.004749880243699709,
          0.0026956853697107574,
          0.001491254389621214,
          8.043063502147935E-4,
          4.230756009314651E-4,
          2.1712582908633925E-4,
          1.0876526746587643E-4,
          5.320485571848131E-5,
          2.542696474818946E-5,
          1.18773339969903E-5,
          5.4252579290848114E-6,
          2.424320684140216E-6,
          1.06026425417448E-6,
          4.540181463158505E-7,
          1.9043311131364288E-7,
          7.826930894114711E-8,
          3.153439861001674E-8,
          1.2458926238097124E-8,
          4.828737570252747E-9,
          1.83650670831419E-9,
          6.856487307977346E-10,
          2.5136271669036436E-10,
          9.051617113998908E-11,
          3.20264999707961E-11,
          1.113723136627344E-11,
          3.807737362091051E-12,
          1.2802287663486856E-12,
          4.234121814153815E-13,
          1.3787353964486822E-13,
          4.4165496280968197E-14,
          1.406655301633222E-14,
          4.434891171648707E-15,
          1.4249968451851096E-15,
          4.216987363639103E-16,
          2.2103911459967045E-16,
          2.2103911459967045E-16,
          2.2103911459967045E-16,
          2.2103911459967045E-16,
          2.2103911459967045E-16,
          2.2103911459967045E-16,
          2.2103911459967045E-16,
          2.2103911459967045E-16,
          2.2103911459967045E-16,
          2.2103911459967045E-16,
          2.2103911459967045E-16,
          2.2103911459967045E-16,
          2.2103911459967045E-16,
          2.2103911459967045E-16,
          2.2103911459967045E-16,
          2.2103911459967045E-16,
          2.2103911459967045E-16,
          2.2103911459967045E-16,
          2.2103911459967045E-16,
          2.2103911459967045E-16,
          2.2103911459967045E-16,
          2.2103911459967045E-16,
          2.2103911459967045E-16,
          2.2103911459967045E-16,
          2.2103911459967045E-16,
          2.2103911459967045E-16,
          2.2103911459967045E-16,
          2.2103911459967045E-16,
          2.2103911459967045E-16,
          2.2103911459967045E-16,
          2.2103911459967045E-16,
          2.2103911459967045E-16,
          2.2103911459967045E-16
         ]
        }
       ],
       "layout": {
        "template": {
         "data": {
          "bar": [
           {
            "error_x": {
             "color": "#2a3f5f"
            },
            "error_y": {
             "color": "#2a3f5f"
            },
            "marker": {
             "line": {
              "color": "#E5ECF6",
              "width": 0.5
             }
            },
            "type": "bar"
           }
          ],
          "barpolar": [
           {
            "marker": {
             "line": {
              "color": "#E5ECF6",
              "width": 0.5
             }
            },
            "type": "barpolar"
           }
          ],
          "carpet": [
           {
            "aaxis": {
             "endlinecolor": "#2a3f5f",
             "gridcolor": "white",
             "linecolor": "white",
             "minorgridcolor": "white",
             "startlinecolor": "#2a3f5f"
            },
            "baxis": {
             "endlinecolor": "#2a3f5f",
             "gridcolor": "white",
             "linecolor": "white",
             "minorgridcolor": "white",
             "startlinecolor": "#2a3f5f"
            },
            "type": "carpet"
           }
          ],
          "choropleth": [
           {
            "colorbar": {
             "outlinewidth": 0,
             "ticks": ""
            },
            "type": "choropleth"
           }
          ],
          "contour": [
           {
            "colorbar": {
             "outlinewidth": 0,
             "ticks": ""
            },
            "colorscale": [
             [
              0,
              "#0d0887"
             ],
             [
              0.1111111111111111,
              "#46039f"
             ],
             [
              0.2222222222222222,
              "#7201a8"
             ],
             [
              0.3333333333333333,
              "#9c179e"
             ],
             [
              0.4444444444444444,
              "#bd3786"
             ],
             [
              0.5555555555555556,
              "#d8576b"
             ],
             [
              0.6666666666666666,
              "#ed7953"
             ],
             [
              0.7777777777777778,
              "#fb9f3a"
             ],
             [
              0.8888888888888888,
              "#fdca26"
             ],
             [
              1,
              "#f0f921"
             ]
            ],
            "type": "contour"
           }
          ],
          "contourcarpet": [
           {
            "colorbar": {
             "outlinewidth": 0,
             "ticks": ""
            },
            "type": "contourcarpet"
           }
          ],
          "heatmap": [
           {
            "colorbar": {
             "outlinewidth": 0,
             "ticks": ""
            },
            "colorscale": [
             [
              0,
              "#0d0887"
             ],
             [
              0.1111111111111111,
              "#46039f"
             ],
             [
              0.2222222222222222,
              "#7201a8"
             ],
             [
              0.3333333333333333,
              "#9c179e"
             ],
             [
              0.4444444444444444,
              "#bd3786"
             ],
             [
              0.5555555555555556,
              "#d8576b"
             ],
             [
              0.6666666666666666,
              "#ed7953"
             ],
             [
              0.7777777777777778,
              "#fb9f3a"
             ],
             [
              0.8888888888888888,
              "#fdca26"
             ],
             [
              1,
              "#f0f921"
             ]
            ],
            "type": "heatmap"
           }
          ],
          "heatmapgl": [
           {
            "colorbar": {
             "outlinewidth": 0,
             "ticks": ""
            },
            "colorscale": [
             [
              0,
              "#0d0887"
             ],
             [
              0.1111111111111111,
              "#46039f"
             ],
             [
              0.2222222222222222,
              "#7201a8"
             ],
             [
              0.3333333333333333,
              "#9c179e"
             ],
             [
              0.4444444444444444,
              "#bd3786"
             ],
             [
              0.5555555555555556,
              "#d8576b"
             ],
             [
              0.6666666666666666,
              "#ed7953"
             ],
             [
              0.7777777777777778,
              "#fb9f3a"
             ],
             [
              0.8888888888888888,
              "#fdca26"
             ],
             [
              1,
              "#f0f921"
             ]
            ],
            "type": "heatmapgl"
           }
          ],
          "histogram": [
           {
            "marker": {
             "colorbar": {
              "outlinewidth": 0,
              "ticks": ""
             }
            },
            "type": "histogram"
           }
          ],
          "histogram2d": [
           {
            "colorbar": {
             "outlinewidth": 0,
             "ticks": ""
            },
            "colorscale": [
             [
              0,
              "#0d0887"
             ],
             [
              0.1111111111111111,
              "#46039f"
             ],
             [
              0.2222222222222222,
              "#7201a8"
             ],
             [
              0.3333333333333333,
              "#9c179e"
             ],
             [
              0.4444444444444444,
              "#bd3786"
             ],
             [
              0.5555555555555556,
              "#d8576b"
             ],
             [
              0.6666666666666666,
              "#ed7953"
             ],
             [
              0.7777777777777778,
              "#fb9f3a"
             ],
             [
              0.8888888888888888,
              "#fdca26"
             ],
             [
              1,
              "#f0f921"
             ]
            ],
            "type": "histogram2d"
           }
          ],
          "histogram2dcontour": [
           {
            "colorbar": {
             "outlinewidth": 0,
             "ticks": ""
            },
            "colorscale": [
             [
              0,
              "#0d0887"
             ],
             [
              0.1111111111111111,
              "#46039f"
             ],
             [
              0.2222222222222222,
              "#7201a8"
             ],
             [
              0.3333333333333333,
              "#9c179e"
             ],
             [
              0.4444444444444444,
              "#bd3786"
             ],
             [
              0.5555555555555556,
              "#d8576b"
             ],
             [
              0.6666666666666666,
              "#ed7953"
             ],
             [
              0.7777777777777778,
              "#fb9f3a"
             ],
             [
              0.8888888888888888,
              "#fdca26"
             ],
             [
              1,
              "#f0f921"
             ]
            ],
            "type": "histogram2dcontour"
           }
          ],
          "mesh3d": [
           {
            "colorbar": {
             "outlinewidth": 0,
             "ticks": ""
            },
            "type": "mesh3d"
           }
          ],
          "parcoords": [
           {
            "line": {
             "colorbar": {
              "outlinewidth": 0,
              "ticks": ""
             }
            },
            "type": "parcoords"
           }
          ],
          "pie": [
           {
            "automargin": true,
            "type": "pie"
           }
          ],
          "scatter": [
           {
            "marker": {
             "colorbar": {
              "outlinewidth": 0,
              "ticks": ""
             }
            },
            "type": "scatter"
           }
          ],
          "scatter3d": [
           {
            "line": {
             "colorbar": {
              "outlinewidth": 0,
              "ticks": ""
             }
            },
            "marker": {
             "colorbar": {
              "outlinewidth": 0,
              "ticks": ""
             }
            },
            "type": "scatter3d"
           }
          ],
          "scattercarpet": [
           {
            "marker": {
             "colorbar": {
              "outlinewidth": 0,
              "ticks": ""
             }
            },
            "type": "scattercarpet"
           }
          ],
          "scattergeo": [
           {
            "marker": {
             "colorbar": {
              "outlinewidth": 0,
              "ticks": ""
             }
            },
            "type": "scattergeo"
           }
          ],
          "scattergl": [
           {
            "marker": {
             "colorbar": {
              "outlinewidth": 0,
              "ticks": ""
             }
            },
            "type": "scattergl"
           }
          ],
          "scattermapbox": [
           {
            "marker": {
             "colorbar": {
              "outlinewidth": 0,
              "ticks": ""
             }
            },
            "type": "scattermapbox"
           }
          ],
          "scatterpolar": [
           {
            "marker": {
             "colorbar": {
              "outlinewidth": 0,
              "ticks": ""
             }
            },
            "type": "scatterpolar"
           }
          ],
          "scatterpolargl": [
           {
            "marker": {
             "colorbar": {
              "outlinewidth": 0,
              "ticks": ""
             }
            },
            "type": "scatterpolargl"
           }
          ],
          "scatterternary": [
           {
            "marker": {
             "colorbar": {
              "outlinewidth": 0,
              "ticks": ""
             }
            },
            "type": "scatterternary"
           }
          ],
          "surface": [
           {
            "colorbar": {
             "outlinewidth": 0,
             "ticks": ""
            },
            "colorscale": [
             [
              0,
              "#0d0887"
             ],
             [
              0.1111111111111111,
              "#46039f"
             ],
             [
              0.2222222222222222,
              "#7201a8"
             ],
             [
              0.3333333333333333,
              "#9c179e"
             ],
             [
              0.4444444444444444,
              "#bd3786"
             ],
             [
              0.5555555555555556,
              "#d8576b"
             ],
             [
              0.6666666666666666,
              "#ed7953"
             ],
             [
              0.7777777777777778,
              "#fb9f3a"
             ],
             [
              0.8888888888888888,
              "#fdca26"
             ],
             [
              1,
              "#f0f921"
             ]
            ],
            "type": "surface"
           }
          ],
          "table": [
           {
            "cells": {
             "fill": {
              "color": "#EBF0F8"
             },
             "line": {
              "color": "white"
             }
            },
            "header": {
             "fill": {
              "color": "#C8D4E3"
             },
             "line": {
              "color": "white"
             }
            },
            "type": "table"
           }
          ]
         },
         "layout": {
          "annotationdefaults": {
           "arrowcolor": "#2a3f5f",
           "arrowhead": 0,
           "arrowwidth": 1
          },
          "coloraxis": {
           "colorbar": {
            "outlinewidth": 0,
            "ticks": ""
           }
          },
          "colorscale": {
           "diverging": [
            [
             0,
             "#8e0152"
            ],
            [
             0.1,
             "#c51b7d"
            ],
            [
             0.2,
             "#de77ae"
            ],
            [
             0.3,
             "#f1b6da"
            ],
            [
             0.4,
             "#fde0ef"
            ],
            [
             0.5,
             "#f7f7f7"
            ],
            [
             0.6,
             "#e6f5d0"
            ],
            [
             0.7,
             "#b8e186"
            ],
            [
             0.8,
             "#7fbc41"
            ],
            [
             0.9,
             "#4d9221"
            ],
            [
             1,
             "#276419"
            ]
           ],
           "sequential": [
            [
             0,
             "#0d0887"
            ],
            [
             0.1111111111111111,
             "#46039f"
            ],
            [
             0.2222222222222222,
             "#7201a8"
            ],
            [
             0.3333333333333333,
             "#9c179e"
            ],
            [
             0.4444444444444444,
             "#bd3786"
            ],
            [
             0.5555555555555556,
             "#d8576b"
            ],
            [
             0.6666666666666666,
             "#ed7953"
            ],
            [
             0.7777777777777778,
             "#fb9f3a"
            ],
            [
             0.8888888888888888,
             "#fdca26"
            ],
            [
             1,
             "#f0f921"
            ]
           ],
           "sequentialminus": [
            [
             0,
             "#0d0887"
            ],
            [
             0.1111111111111111,
             "#46039f"
            ],
            [
             0.2222222222222222,
             "#7201a8"
            ],
            [
             0.3333333333333333,
             "#9c179e"
            ],
            [
             0.4444444444444444,
             "#bd3786"
            ],
            [
             0.5555555555555556,
             "#d8576b"
            ],
            [
             0.6666666666666666,
             "#ed7953"
            ],
            [
             0.7777777777777778,
             "#fb9f3a"
            ],
            [
             0.8888888888888888,
             "#fdca26"
            ],
            [
             1,
             "#f0f921"
            ]
           ]
          },
          "colorway": [
           "#636efa",
           "#EF553B",
           "#00cc96",
           "#ab63fa",
           "#FFA15A",
           "#19d3f3",
           "#FF6692",
           "#B6E880",
           "#FF97FF",
           "#FECB52"
          ],
          "font": {
           "color": "#2a3f5f"
          },
          "geo": {
           "bgcolor": "white",
           "lakecolor": "white",
           "landcolor": "#E5ECF6",
           "showlakes": true,
           "showland": true,
           "subunitcolor": "white"
          },
          "hoverlabel": {
           "align": "left"
          },
          "hovermode": "closest",
          "mapbox": {
           "style": "light"
          },
          "paper_bgcolor": "white",
          "plot_bgcolor": "#E5ECF6",
          "polar": {
           "angularaxis": {
            "gridcolor": "white",
            "linecolor": "white",
            "ticks": ""
           },
           "bgcolor": "#E5ECF6",
           "radialaxis": {
            "gridcolor": "white",
            "linecolor": "white",
            "ticks": ""
           }
          },
          "scene": {
           "xaxis": {
            "backgroundcolor": "#E5ECF6",
            "gridcolor": "white",
            "gridwidth": 2,
            "linecolor": "white",
            "showbackground": true,
            "ticks": "",
            "zerolinecolor": "white"
           },
           "yaxis": {
            "backgroundcolor": "#E5ECF6",
            "gridcolor": "white",
            "gridwidth": 2,
            "linecolor": "white",
            "showbackground": true,
            "ticks": "",
            "zerolinecolor": "white"
           },
           "zaxis": {
            "backgroundcolor": "#E5ECF6",
            "gridcolor": "white",
            "gridwidth": 2,
            "linecolor": "white",
            "showbackground": true,
            "ticks": "",
            "zerolinecolor": "white"
           }
          },
          "shapedefaults": {
           "line": {
            "color": "#2a3f5f"
           }
          },
          "ternary": {
           "aaxis": {
            "gridcolor": "white",
            "linecolor": "white",
            "ticks": ""
           },
           "baxis": {
            "gridcolor": "white",
            "linecolor": "white",
            "ticks": ""
           },
           "bgcolor": "#E5ECF6",
           "caxis": {
            "gridcolor": "white",
            "linecolor": "white",
            "ticks": ""
           }
          },
          "title": {
           "x": 0.05
          },
          "xaxis": {
           "automargin": true,
           "gridcolor": "white",
           "linecolor": "white",
           "ticks": "",
           "title": {
            "standoff": 15
           },
           "zerolinecolor": "white",
           "zerolinewidth": 2
          },
          "yaxis": {
           "automargin": true,
           "gridcolor": "white",
           "linecolor": "white",
           "ticks": "",
           "title": {
            "standoff": 15
           },
           "zerolinecolor": "white",
           "zerolinewidth": 2
          }
         }
        },
        "title": {
         "text": "Error by number of steps"
        },
        "yaxis": {
         "exponentformat": "e",
         "title": {
          "text": "Log error"
         },
         "type": "log"
        }
       }
      },
      "text/html": [
       "<div>                            <div id=\"18cdfa41-e30d-4283-87e5-2a7e31001671\" class=\"plotly-graph-div\" style=\"height:525px; width:100%;\"></div>            <script type=\"text/javascript\">                require([\"plotly\"], function(Plotly) {                    window.PLOTLYENV=window.PLOTLYENV || {};                                    if (document.getElementById(\"18cdfa41-e30d-4283-87e5-2a7e31001671\")) {                    Plotly.newPlot(                        \"18cdfa41-e30d-4283-87e5-2a7e31001671\",                        [{\"mode\": \"lines+markers\", \"name\": \"Float relative error (x=-10)\", \"type\": \"scatter\", \"x\": [0, 1, 2, 3, 4, 5, 6, 7, 8, 9, 10, 11, 12, 13, 14, 15, 16, 17, 18, 19, 20, 21, 22, 23, 24, 25, 26, 27, 28, 29, 30, 31, 32, 33, 34, 35, 36, 37, 38, 39, 40, 41, 42, 43, 44, 45, 46, 47, 48, 49, 50, 51, 52, 53, 54, 55, 56, 57, 58, 59, 60, 61, 62, 63, 64, 65, 66, 67, 68, 69, 70, 71, 72, 73, 74, 75, 76, 77, 78, 79, 80, 81, 82, 83, 84, 85, 86, 87, 88, 89, 90, 91, 92, 93, 94, 95, 96, 97, 98, 99], \"y\": [22025.465794806718, 22025.465794806718, 2001.4060410224138, 360.0895830160988, 95.74874910798219, 33.18489160583428, 13.906247295845839, 6.683948151118859, 3.540900119479235, 2.004629935737924, 1.1837410245456754, 0.7151487565821156, 0.4351810134189458, 0.2633336067517073, 0.15678553661273686, 0.09105797566106537, 0.05123767179804078, 0.027793105803042607, 0.014484333051285735, 0.007238493743307557, 0.0034662083847480977, 0.0015906431051482435, 0.0007000581048289758, 0.00029579309433674044, 0.00012006402238243469, 4.690367459662478e-05, 1.7575430029695508e-05, 6.356975823766277e-06, 2.1901214044211348e-06, 6.676169050450249e-07, 1.0669419474856341e-07, 5.35694367647113e-08, 1.3370125252134865e-07, 1.3370125252134865e-07, 1.3370125252134865e-07, 1.3370125252134865e-07, 1.3370125252134865e-07, 1.3370125252134865e-07, 1.3370125252134865e-07, 1.3370125252134865e-07, 1.3370125252134865e-07, 1.3370125252134865e-07, 1.3370125252134865e-07, 1.3370125252134865e-07, 1.3370125252134865e-07, 1.3370125252134865e-07, 1.3370125252134865e-07, 1.3370125252134865e-07, 1.3370125252134865e-07, 1.3370125252134865e-07, 1.3370125252134865e-07, 1.3370125252134865e-07, 1.3370125252134865e-07, 1.3370125252134865e-07, 1.3370125252134865e-07, 1.3370125252134865e-07, 1.3370125252134865e-07, 1.3370125252134865e-07, 1.3370125252134865e-07, 1.3370125252134865e-07, 1.3370125252134865e-07, 1.3370125252134865e-07, 1.3370125252134865e-07, 1.3370125252134865e-07, 1.3370125252134865e-07, 1.3370125252134865e-07, 1.3370125252134865e-07, 1.3370125252134865e-07, 1.3370125252134865e-07, 1.3370125252134865e-07, 1.3370125252134865e-07, 1.3370125252134865e-07, 1.3370125252134865e-07, 1.3370125252134865e-07, 1.3370125252134865e-07, 1.3370125252134865e-07, 1.3370125252134865e-07, 1.3370125252134865e-07, 1.3370125252134865e-07, 1.3370125252134865e-07, 1.3370125252134865e-07, 1.3370125252134865e-07, 1.3370125252134865e-07, 1.3370125252134865e-07, 1.3370125252134865e-07, 1.3370125252134865e-07, 1.3370125252134865e-07, 1.3370125252134865e-07, 1.3370125252134865e-07, 1.3370125252134865e-07, 1.3370125252134865e-07, 1.3370125252134865e-07, 1.3370125252134865e-07, 1.3370125252134865e-07, 1.3370125252134865e-07, 1.3370125252134865e-07, 1.3370125252134865e-07, 1.3370125252134865e-07, 1.3370125252134865e-07, 1.3370125252134865e-07]}, {\"mode\": \"lines+markers\", \"name\": \"Float relative error (x=-20)\", \"type\": \"scatter\", \"x\": [0, 1, 2, 3, 4, 5, 6, 7, 8, 9, 10, 11, 12, 13, 14, 15, 16, 17, 18, 19, 20, 21, 22, 23, 24, 25, 26, 27, 28, 29, 30, 31, 32, 33, 34, 35, 36, 37, 38, 39, 40, 41, 42, 43, 44, 45, 46, 47, 48, 49, 50, 51, 52, 53, 54, 55, 56, 57, 58, 59, 60, 61, 62, 63, 64, 65, 66, 67, 68, 69, 70, 71, 72, 73, 74, 75, 76, 77, 78, 79, 80, 81, 82, 83, 84, 85, 86, 87, 88, 89, 90, 91, 92, 93, 94, 95, 96, 97, 98, 99], \"y\": [485165194.4097903, 485165194.4097903, 23103103.973652203, 2195316.721360166, 312136.16115058254, 59014.35210779925, 13905.495714954523, 3918.6856021337244, 1283.3727993486557, 478.09716333604996, 199.18365596319254, 91.49222799981092, 45.75776316420572, 24.633138784942634, 14.122268158051824, 8.53613449865074, 5.389239192122548, 3.523367554719658, 2.3666811048364327, 1.6217680373894814, 1.126495300491246, 0.7886123378090667, 0.5535242711190739, 0.3877105736506712, 0.26985278159074744, 0.185919605207752, 0.12636060626839613, 0.08446538808501491, 0.05538736153284749, 0.035554147986758905, 0.0223047503592229, 0.013658583594809719, 0.00815765268997375, 0.004749775200527749, 0.0026955039782275104, 0.0014911014261630772, 0.0008041179669041424, 0.00042286746316925615, 0.00021699865485126584, 0.00010862397082829447, 5.314388904715109e-05, 2.534998399951033e-05, 1.1776216418104373e-05, 5.312517569815824e-06, 2.4038530880859764e-06, 1.003385004290124e-06, 4.6474343359941163e-07, 1.4155849118498414e-07, 3.383017704684165e-08, 7.389813709130085e-08, 7.389813709130085e-08, 7.389813709130085e-08, 7.389813709130085e-08, 7.389813709130085e-08, 7.389813709130085e-08, 7.389813709130085e-08, 7.389813709130085e-08, 7.389813709130085e-08, 7.389813709130085e-08, 7.389813709130085e-08, 7.389813709130085e-08, 7.389813709130085e-08, 7.389813709130085e-08, 7.389813709130085e-08, 7.389813709130085e-08, 7.389813709130085e-08, 7.389813709130085e-08, 7.389813709130085e-08, 7.389813709130085e-08, 7.389813709130085e-08, 7.389813709130085e-08, 7.389813709130085e-08, 7.389813709130085e-08, 7.389813709130085e-08, 7.389813709130085e-08, 7.389813709130085e-08, 7.389813709130085e-08, 7.389813709130085e-08, 7.389813709130085e-08, 7.389813709130085e-08, 7.389813709130085e-08, 7.389813709130085e-08, 7.389813709130085e-08, 7.389813709130085e-08, 7.389813709130085e-08, 7.389813709130085e-08, 7.389813709130085e-08, 7.389813709130085e-08, 7.389813709130085e-08, 7.389813709130085e-08, 7.389813709130085e-08, 7.389813709130085e-08, 7.389813709130085e-08, 7.389813709130085e-08, 7.389813709130085e-08, 7.389813709130085e-08, 7.389813709130085e-08, 7.389813709130085e-08, 7.389813709130085e-08, 7.389813709130085e-08]}, {\"mode\": \"lines+markers\", \"name\": \"Double relative error (x=-10)\", \"type\": \"scatter\", \"x\": [0, 1, 2, 3, 4, 5, 6, 7, 8, 9, 10, 11, 12, 13, 14, 15, 16, 17, 18, 19, 20, 21, 22, 23, 24, 25, 26, 27, 28, 29, 30, 31, 32, 33, 34, 35, 36, 37, 38, 39, 40, 41, 42, 43, 44, 45, 46, 47, 48, 49, 50, 51, 52, 53, 54, 55, 56, 57, 58, 59, 60, 61, 62, 63, 64, 65, 66, 67, 68, 69, 70, 71, 72, 73, 74, 75, 76, 77, 78, 79, 80, 81, 82, 83, 84, 85, 86, 87, 88, 89, 90, 91, 92, 93, 94, 95, 96, 97, 98, 99], \"y\": [22025.465794806718, 22025.465794806718, 2001.4059813460651, 360.08960319355276, 95.74875166093726, 33.18489259411286, 13.90624800009478, 6.683948686121961, 3.54090029900169, 2.004630025945664, 1.18374123451093, 0.7151489236694432, 0.43518116299720055, 0.26333373526861525, 0.15678560486042764, 0.09105803771039976, 0.051237752000891444, 0.027793182171768, 0.014484416499001052, 0.00723852429200404, 0.0034663158160818507, 0.0015907872466632857, 0.0007001403659004939, 0.0002958242941386808, 0.0001201365850155851, 4.6951585774753896e-05, 1.7680585015225946e-05, 6.422964052835731e-06, 2.253539129300219e-06, 7.644672253620408e-07, 2.509951832812479e-07, 7.983795298833203e-08, 2.4625955691431586e-08, 7.372207870135867e-09, 2.143799584174389e-09, 6.060323973453841e-10, 1.6667042925546161e-10, 4.462540495111914e-11, 1.1640323756893304e-11, 2.95997638698633e-12, 7.342539463505887e-13, 1.7782333619165336e-13, 4.199934068611925e-14, 9.6105417578765e-15, 2.2969419998862027e-15, 6.551134827863399e-16, 2.0734206903183193e-16, 2.0734206903183193e-16, 2.0734206903183193e-16, 2.0734206903183193e-16, 2.0734206903183193e-16, 2.0734206903183193e-16, 2.0734206903183193e-16, 2.0734206903183193e-16, 2.0734206903183193e-16, 2.0734206903183193e-16, 2.0734206903183193e-16, 2.0734206903183193e-16, 2.0734206903183193e-16, 2.0734206903183193e-16, 2.0734206903183193e-16, 2.0734206903183193e-16, 2.0734206903183193e-16, 2.0734206903183193e-16, 2.0734206903183193e-16, 2.0734206903183193e-16, 2.0734206903183193e-16, 2.0734206903183193e-16, 2.0734206903183193e-16, 2.0734206903183193e-16, 2.0734206903183193e-16, 2.0734206903183193e-16, 2.0734206903183193e-16, 2.0734206903183193e-16, 2.0734206903183193e-16, 2.0734206903183193e-16, 2.0734206903183193e-16, 2.0734206903183193e-16, 2.0734206903183193e-16, 2.0734206903183193e-16, 2.0734206903183193e-16, 2.0734206903183193e-16, 2.0734206903183193e-16, 2.0734206903183193e-16, 2.0734206903183193e-16, 2.0734206903183193e-16, 2.0734206903183193e-16, 2.0734206903183193e-16, 2.0734206903183193e-16, 2.0734206903183193e-16, 2.0734206903183193e-16, 2.0734206903183193e-16, 2.0734206903183193e-16, 2.0734206903183193e-16, 2.0734206903183193e-16, 2.0734206903183193e-16, 2.0734206903183193e-16, 2.0734206903183193e-16, 2.0734206903183193e-16, 2.0734206903183193e-16]}, {\"mode\": \"lines+markers\", \"name\": \"Double relative error (x=-20)\", \"type\": \"scatter\", \"x\": [0, 1, 2, 3, 4, 5, 6, 7, 8, 9, 10, 11, 12, 13, 14, 15, 16, 17, 18, 19, 20, 21, 22, 23, 24, 25, 26, 27, 28, 29, 30, 31, 32, 33, 34, 35, 36, 37, 38, 39, 40, 41, 42, 43, 44, 45, 46, 47, 48, 49, 50, 51, 52, 53, 54, 55, 56, 57, 58, 59, 60, 61, 62, 63, 64, 65, 66, 67, 68, 69, 70, 71, 72, 73, 74, 75, 76, 77, 78, 79, 80, 81, 82, 83, 84, 85, 86, 87, 88, 89, 90, 91, 92, 93, 94, 95, 96, 97, 98, 99], \"y\": [485165194.4097903, 485165194.4097903, 23103103.543323345, 2195316.626288644, 312136.16196212114, 59014.350372191984, 13905.495955871425, 3918.685704875105, 1283.3728971984988, 478.0972162340895, 199.1836761976498, 91.49223144194522, 45.75776603451668, 24.633143216164093, 14.122269379267653, 8.536135559545233, 5.389240125448693, 3.523368140509798, 2.3666814586987712, 1.6217683629624147, 1.126495581283288, 0.7886125271628514, 0.5535243952863278, 0.38771060092113047, 0.26985285285296257, 0.18591974820097912, 0.12636075001052247, 0.08446552928589231, 0.055387488108101755, 0.035554223608704034, 0.022304870031790387, 0.013658728290323515, 0.008157765305339933, 0.004749880243699709, 0.0026956853697107574, 0.001491254389621214, 0.0008043063502147935, 0.0004230756009314651, 0.00021712582908633925, 0.00010876526746587643, 5.320485571848131e-05, 2.542696474818946e-05, 1.18773339969903e-05, 5.4252579290848114e-06, 2.424320684140216e-06, 1.06026425417448e-06, 4.540181463158505e-07, 1.9043311131364288e-07, 7.826930894114711e-08, 3.153439861001674e-08, 1.2458926238097124e-08, 4.828737570252747e-09, 1.83650670831419e-09, 6.856487307977346e-10, 2.5136271669036436e-10, 9.051617113998908e-11, 3.20264999707961e-11, 1.113723136627344e-11, 3.807737362091051e-12, 1.2802287663486856e-12, 4.234121814153815e-13, 1.3787353964486822e-13, 4.4165496280968197e-14, 1.406655301633222e-14, 4.434891171648707e-15, 1.4249968451851096e-15, 4.216987363639103e-16, 2.2103911459967045e-16, 2.2103911459967045e-16, 2.2103911459967045e-16, 2.2103911459967045e-16, 2.2103911459967045e-16, 2.2103911459967045e-16, 2.2103911459967045e-16, 2.2103911459967045e-16, 2.2103911459967045e-16, 2.2103911459967045e-16, 2.2103911459967045e-16, 2.2103911459967045e-16, 2.2103911459967045e-16, 2.2103911459967045e-16, 2.2103911459967045e-16, 2.2103911459967045e-16, 2.2103911459967045e-16, 2.2103911459967045e-16, 2.2103911459967045e-16, 2.2103911459967045e-16, 2.2103911459967045e-16, 2.2103911459967045e-16, 2.2103911459967045e-16, 2.2103911459967045e-16, 2.2103911459967045e-16, 2.2103911459967045e-16, 2.2103911459967045e-16, 2.2103911459967045e-16, 2.2103911459967045e-16, 2.2103911459967045e-16, 2.2103911459967045e-16, 2.2103911459967045e-16, 2.2103911459967045e-16]}],                        {\"template\": {\"data\": {\"bar\": [{\"error_x\": {\"color\": \"#2a3f5f\"}, \"error_y\": {\"color\": \"#2a3f5f\"}, \"marker\": {\"line\": {\"color\": \"#E5ECF6\", \"width\": 0.5}}, \"type\": \"bar\"}], \"barpolar\": [{\"marker\": {\"line\": {\"color\": \"#E5ECF6\", \"width\": 0.5}}, \"type\": \"barpolar\"}], \"carpet\": [{\"aaxis\": {\"endlinecolor\": \"#2a3f5f\", \"gridcolor\": \"white\", \"linecolor\": \"white\", \"minorgridcolor\": \"white\", \"startlinecolor\": \"#2a3f5f\"}, \"baxis\": {\"endlinecolor\": \"#2a3f5f\", \"gridcolor\": \"white\", \"linecolor\": \"white\", \"minorgridcolor\": \"white\", \"startlinecolor\": \"#2a3f5f\"}, \"type\": \"carpet\"}], \"choropleth\": [{\"colorbar\": {\"outlinewidth\": 0, \"ticks\": \"\"}, \"type\": \"choropleth\"}], \"contour\": [{\"colorbar\": {\"outlinewidth\": 0, \"ticks\": \"\"}, \"colorscale\": [[0.0, \"#0d0887\"], [0.1111111111111111, \"#46039f\"], [0.2222222222222222, \"#7201a8\"], [0.3333333333333333, \"#9c179e\"], [0.4444444444444444, \"#bd3786\"], [0.5555555555555556, \"#d8576b\"], [0.6666666666666666, \"#ed7953\"], [0.7777777777777778, \"#fb9f3a\"], [0.8888888888888888, \"#fdca26\"], [1.0, \"#f0f921\"]], \"type\": \"contour\"}], \"contourcarpet\": [{\"colorbar\": {\"outlinewidth\": 0, \"ticks\": \"\"}, \"type\": \"contourcarpet\"}], \"heatmap\": [{\"colorbar\": {\"outlinewidth\": 0, \"ticks\": \"\"}, \"colorscale\": [[0.0, \"#0d0887\"], [0.1111111111111111, \"#46039f\"], [0.2222222222222222, \"#7201a8\"], [0.3333333333333333, \"#9c179e\"], [0.4444444444444444, \"#bd3786\"], [0.5555555555555556, \"#d8576b\"], [0.6666666666666666, \"#ed7953\"], [0.7777777777777778, \"#fb9f3a\"], [0.8888888888888888, \"#fdca26\"], [1.0, \"#f0f921\"]], \"type\": \"heatmap\"}], \"heatmapgl\": [{\"colorbar\": {\"outlinewidth\": 0, \"ticks\": \"\"}, \"colorscale\": [[0.0, \"#0d0887\"], [0.1111111111111111, \"#46039f\"], [0.2222222222222222, \"#7201a8\"], [0.3333333333333333, \"#9c179e\"], [0.4444444444444444, \"#bd3786\"], [0.5555555555555556, \"#d8576b\"], [0.6666666666666666, \"#ed7953\"], [0.7777777777777778, \"#fb9f3a\"], [0.8888888888888888, \"#fdca26\"], [1.0, \"#f0f921\"]], \"type\": \"heatmapgl\"}], \"histogram\": [{\"marker\": {\"colorbar\": {\"outlinewidth\": 0, \"ticks\": \"\"}}, \"type\": \"histogram\"}], \"histogram2d\": [{\"colorbar\": {\"outlinewidth\": 0, \"ticks\": \"\"}, \"colorscale\": [[0.0, \"#0d0887\"], [0.1111111111111111, \"#46039f\"], [0.2222222222222222, \"#7201a8\"], [0.3333333333333333, \"#9c179e\"], [0.4444444444444444, \"#bd3786\"], [0.5555555555555556, \"#d8576b\"], [0.6666666666666666, \"#ed7953\"], [0.7777777777777778, \"#fb9f3a\"], [0.8888888888888888, \"#fdca26\"], [1.0, \"#f0f921\"]], \"type\": \"histogram2d\"}], \"histogram2dcontour\": [{\"colorbar\": {\"outlinewidth\": 0, \"ticks\": \"\"}, \"colorscale\": [[0.0, \"#0d0887\"], [0.1111111111111111, \"#46039f\"], [0.2222222222222222, \"#7201a8\"], [0.3333333333333333, \"#9c179e\"], [0.4444444444444444, \"#bd3786\"], [0.5555555555555556, \"#d8576b\"], [0.6666666666666666, \"#ed7953\"], [0.7777777777777778, \"#fb9f3a\"], [0.8888888888888888, \"#fdca26\"], [1.0, \"#f0f921\"]], \"type\": \"histogram2dcontour\"}], \"mesh3d\": [{\"colorbar\": {\"outlinewidth\": 0, \"ticks\": \"\"}, \"type\": \"mesh3d\"}], \"parcoords\": [{\"line\": {\"colorbar\": {\"outlinewidth\": 0, \"ticks\": \"\"}}, \"type\": \"parcoords\"}], \"pie\": [{\"automargin\": true, \"type\": \"pie\"}], \"scatter\": [{\"marker\": {\"colorbar\": {\"outlinewidth\": 0, \"ticks\": \"\"}}, \"type\": \"scatter\"}], \"scatter3d\": [{\"line\": {\"colorbar\": {\"outlinewidth\": 0, \"ticks\": \"\"}}, \"marker\": {\"colorbar\": {\"outlinewidth\": 0, \"ticks\": \"\"}}, \"type\": \"scatter3d\"}], \"scattercarpet\": [{\"marker\": {\"colorbar\": {\"outlinewidth\": 0, \"ticks\": \"\"}}, \"type\": \"scattercarpet\"}], \"scattergeo\": [{\"marker\": {\"colorbar\": {\"outlinewidth\": 0, \"ticks\": \"\"}}, \"type\": \"scattergeo\"}], \"scattergl\": [{\"marker\": {\"colorbar\": {\"outlinewidth\": 0, \"ticks\": \"\"}}, \"type\": \"scattergl\"}], \"scattermapbox\": [{\"marker\": {\"colorbar\": {\"outlinewidth\": 0, \"ticks\": \"\"}}, \"type\": \"scattermapbox\"}], \"scatterpolar\": [{\"marker\": {\"colorbar\": {\"outlinewidth\": 0, \"ticks\": \"\"}}, \"type\": \"scatterpolar\"}], \"scatterpolargl\": [{\"marker\": {\"colorbar\": {\"outlinewidth\": 0, \"ticks\": \"\"}}, \"type\": \"scatterpolargl\"}], \"scatterternary\": [{\"marker\": {\"colorbar\": {\"outlinewidth\": 0, \"ticks\": \"\"}}, \"type\": \"scatterternary\"}], \"surface\": [{\"colorbar\": {\"outlinewidth\": 0, \"ticks\": \"\"}, \"colorscale\": [[0.0, \"#0d0887\"], [0.1111111111111111, \"#46039f\"], [0.2222222222222222, \"#7201a8\"], [0.3333333333333333, \"#9c179e\"], [0.4444444444444444, \"#bd3786\"], [0.5555555555555556, \"#d8576b\"], [0.6666666666666666, \"#ed7953\"], [0.7777777777777778, \"#fb9f3a\"], [0.8888888888888888, \"#fdca26\"], [1.0, \"#f0f921\"]], \"type\": \"surface\"}], \"table\": [{\"cells\": {\"fill\": {\"color\": \"#EBF0F8\"}, \"line\": {\"color\": \"white\"}}, \"header\": {\"fill\": {\"color\": \"#C8D4E3\"}, \"line\": {\"color\": \"white\"}}, \"type\": \"table\"}]}, \"layout\": {\"annotationdefaults\": {\"arrowcolor\": \"#2a3f5f\", \"arrowhead\": 0, \"arrowwidth\": 1}, \"coloraxis\": {\"colorbar\": {\"outlinewidth\": 0, \"ticks\": \"\"}}, \"colorscale\": {\"diverging\": [[0, \"#8e0152\"], [0.1, \"#c51b7d\"], [0.2, \"#de77ae\"], [0.3, \"#f1b6da\"], [0.4, \"#fde0ef\"], [0.5, \"#f7f7f7\"], [0.6, \"#e6f5d0\"], [0.7, \"#b8e186\"], [0.8, \"#7fbc41\"], [0.9, \"#4d9221\"], [1, \"#276419\"]], \"sequential\": [[0.0, \"#0d0887\"], [0.1111111111111111, \"#46039f\"], [0.2222222222222222, \"#7201a8\"], [0.3333333333333333, \"#9c179e\"], [0.4444444444444444, \"#bd3786\"], [0.5555555555555556, \"#d8576b\"], [0.6666666666666666, \"#ed7953\"], [0.7777777777777778, \"#fb9f3a\"], [0.8888888888888888, \"#fdca26\"], [1.0, \"#f0f921\"]], \"sequentialminus\": [[0.0, \"#0d0887\"], [0.1111111111111111, \"#46039f\"], [0.2222222222222222, \"#7201a8\"], [0.3333333333333333, \"#9c179e\"], [0.4444444444444444, \"#bd3786\"], [0.5555555555555556, \"#d8576b\"], [0.6666666666666666, \"#ed7953\"], [0.7777777777777778, \"#fb9f3a\"], [0.8888888888888888, \"#fdca26\"], [1.0, \"#f0f921\"]]}, \"colorway\": [\"#636efa\", \"#EF553B\", \"#00cc96\", \"#ab63fa\", \"#FFA15A\", \"#19d3f3\", \"#FF6692\", \"#B6E880\", \"#FF97FF\", \"#FECB52\"], \"font\": {\"color\": \"#2a3f5f\"}, \"geo\": {\"bgcolor\": \"white\", \"lakecolor\": \"white\", \"landcolor\": \"#E5ECF6\", \"showlakes\": true, \"showland\": true, \"subunitcolor\": \"white\"}, \"hoverlabel\": {\"align\": \"left\"}, \"hovermode\": \"closest\", \"mapbox\": {\"style\": \"light\"}, \"paper_bgcolor\": \"white\", \"plot_bgcolor\": \"#E5ECF6\", \"polar\": {\"angularaxis\": {\"gridcolor\": \"white\", \"linecolor\": \"white\", \"ticks\": \"\"}, \"bgcolor\": \"#E5ECF6\", \"radialaxis\": {\"gridcolor\": \"white\", \"linecolor\": \"white\", \"ticks\": \"\"}}, \"scene\": {\"xaxis\": {\"backgroundcolor\": \"#E5ECF6\", \"gridcolor\": \"white\", \"gridwidth\": 2, \"linecolor\": \"white\", \"showbackground\": true, \"ticks\": \"\", \"zerolinecolor\": \"white\"}, \"yaxis\": {\"backgroundcolor\": \"#E5ECF6\", \"gridcolor\": \"white\", \"gridwidth\": 2, \"linecolor\": \"white\", \"showbackground\": true, \"ticks\": \"\", \"zerolinecolor\": \"white\"}, \"zaxis\": {\"backgroundcolor\": \"#E5ECF6\", \"gridcolor\": \"white\", \"gridwidth\": 2, \"linecolor\": \"white\", \"showbackground\": true, \"ticks\": \"\", \"zerolinecolor\": \"white\"}}, \"shapedefaults\": {\"line\": {\"color\": \"#2a3f5f\"}}, \"ternary\": {\"aaxis\": {\"gridcolor\": \"white\", \"linecolor\": \"white\", \"ticks\": \"\"}, \"baxis\": {\"gridcolor\": \"white\", \"linecolor\": \"white\", \"ticks\": \"\"}, \"bgcolor\": \"#E5ECF6\", \"caxis\": {\"gridcolor\": \"white\", \"linecolor\": \"white\", \"ticks\": \"\"}}, \"title\": {\"x\": 0.05}, \"xaxis\": {\"automargin\": true, \"gridcolor\": \"white\", \"linecolor\": \"white\", \"ticks\": \"\", \"title\": {\"standoff\": 15}, \"zerolinecolor\": \"white\", \"zerolinewidth\": 2}, \"yaxis\": {\"automargin\": true, \"gridcolor\": \"white\", \"linecolor\": \"white\", \"ticks\": \"\", \"title\": {\"standoff\": 15}, \"zerolinecolor\": \"white\", \"zerolinewidth\": 2}}}, \"title\": {\"text\": \"Error by number of steps\"}, \"yaxis\": {\"exponentformat\": \"e\", \"title\": {\"text\": \"Log error\"}, \"type\": \"log\"}},                        {\"responsive\": true}                    ).then(function(){\n",
       "                            \n",
       "var gd = document.getElementById('18cdfa41-e30d-4283-87e5-2a7e31001671');\n",
       "var x = new MutationObserver(function (mutations, observer) {{\n",
       "        var display = window.getComputedStyle(gd).display;\n",
       "        if (!display || display === 'none') {{\n",
       "            console.log([gd, 'removed!']);\n",
       "            Plotly.purge(gd);\n",
       "            observer.disconnect();\n",
       "        }}\n",
       "}});\n",
       "\n",
       "// Listen for the removal of the full notebook cells\n",
       "var notebookContainer = gd.closest('#notebook-container');\n",
       "if (notebookContainer) {{\n",
       "    x.observe(notebookContainer, {childList: true});\n",
       "}}\n",
       "\n",
       "// Listen for the clearing of the current output cell\n",
       "var outputEl = gd.closest('.output');\n",
       "if (outputEl) {{\n",
       "    x.observe(outputEl, {childList: true});\n",
       "}}\n",
       "\n",
       "                        })                };                });            </script>        </div>"
      ]
     },
     "metadata": {},
     "output_type": "display_data"
    }
   ],
   "source": [
    "def get_errors_by_n_steps(x: Union[Float, Double], n_steps: int) -> Iterable:\n",
    "    true_values = numpy.exp(numpy.float128(-x)).repeat(n_steps)\n",
    "    calc_values = [inverse_exponent(x, i) for i in range(n_steps)]\n",
    "    return get_relative_error(true_values, calc_values)\n",
    "\n",
    "n_teylor_steps = 100\n",
    "float_re_10 = get_errors_by_n_steps(Float(10), n_teylor_steps)\n",
    "float_re_20 = get_errors_by_n_steps(Float(20), n_teylor_steps)\n",
    "double_re_10 = get_errors_by_n_steps(Double(10), n_teylor_steps)\n",
    "double_re_20 = get_errors_by_n_steps(Double(20), n_teylor_steps)\n",
    "\n",
    "x_range = [i for i in range(n_teylor_steps)]\n",
    "fig = go.Figure()\n",
    "fig.add_trace(go.Scatter(x=x_range, y=float_re_10, mode='lines+markers', name=\"Float relative error (x=-10)\"))\n",
    "fig.add_trace(go.Scatter(x=x_range, y=float_re_20, mode='lines+markers', name=\"Float relative error (x=-20)\"))\n",
    "fig.add_trace(go.Scatter(x=x_range, y=double_re_10, mode='lines+markers', name=\"Double relative error (x=-10)\"))\n",
    "fig.add_trace(go.Scatter(x=x_range, y=double_re_20, mode='lines+markers', name=\"Double relative error (x=-20)\"))\n",
    "fig.update_layout(yaxis={\"title\": \"Log error\", \"exponentformat\": \"e\"}, title=\"Error by number of steps\")\n",
    "fig.update_yaxes(type=\"log\")\n",
    "fig.show()"
   ]
  },
  {
   "cell_type": "markdown",
   "metadata": {
    "pycharm": {
     "name": "#%% md\n"
    }
   },
   "source": [
    "# Выводы\n",
    "\n",
    "1. Начиная с определённого шага слагаемые ряда Тейлора становятся меньше относительной погрешности.\n",
    "Причём чем выше точность, тем больше шагов Тейлора имеет смысл делать.\n",
    "2. Значение `x` также влияет на необходимое число шагов. Чем выше абсолютное значение, тем больше шагов надо сделать.\n",
    "2. Для чисел с одинарной точностью относительная ошибка находится в районе 10^(-7), а для двойной точности\n",
    "в районе 10^(-16).\n",
    "Таким образом, при увеличении точности в два раза, относительная погрешность уменьшается на 9 порядков."
   ]
  }
 ],
 "metadata": {
  "kernelspec": {
   "display_name": "Python 3",
   "language": "python",
   "name": "python3"
  },
  "language_info": {
   "codemirror_mode": {
    "name": "ipython",
    "version": 3
   },
   "file_extension": ".py",
   "mimetype": "text/x-python",
   "name": "python",
   "nbconvert_exporter": "python",
   "pygments_lexer": "ipython3",
   "version": "3.8.5"
  }
 },
 "nbformat": 4,
 "nbformat_minor": 1
}