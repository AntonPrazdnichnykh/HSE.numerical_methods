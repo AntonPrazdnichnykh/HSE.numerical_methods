{
 "cells": [
  {
   "cell_type": "code",
   "execution_count": 1,
   "metadata": {},
   "outputs": [],
   "source": [
    "import numpy as np"
   ]
  },
  {
   "cell_type": "code",
   "execution_count": 10,
   "metadata": {},
   "outputs": [
    {
     "data": {
      "text/plain": [
       "array([-0.66666667,  0.33333333,  0.33333333])"
      ]
     },
     "execution_count": 10,
     "metadata": {},
     "output_type": "execute_result"
    }
   ],
   "source": [
    "A_ = np.array([[2, 2, 5, 4], [3, 4, 5, 4], [5, 6, 7, 4]], dtype=float)\n",
    "A = np.array([[2, 2, 5], [3, 4, 5], [5, 6, 7]], dtype=float)\n",
    "b = np.array([1, 1, 1])\n",
    "np.linalg.solve(A, b)"
   ]
  },
  {
   "cell_type": "code",
   "execution_count": 11,
   "metadata": {},
   "outputs": [],
   "source": [
    "def gauss(A: np.ndarray, b: np.ndarray) -> np.ndarray:\n",
    "    if A.shape[0] != A.shape[1]:\n",
    "        raise ValueError(\"matrix A must be square\")\n",
    "    \n",
    "    if A.shape[0] != b.shape[0]:\n",
    "        raise ValueError(\"A and b dimensions don't match\")\n",
    "    \n",
    "    \n",
    "    # add b as a column to A\n",
    "    A_  = np.concatenate((A, np.reshape(b, (-1, b.shape[0])).T), axis=1)\n",
    "    for j in range(A_.shape[0]):\n",
    "        A_[j] = A_[j] / A_[j,j]\n",
    "        for i in range(j + 1, A_.shape[0]):\n",
    "            A_[i] = A_[i] - A_[j] * A_[i, j]\n",
    "            \n",
    "    # extract updated b from updated A\n",
    "    b_ = A_[:, -1]\n",
    "    A_ = A_[:, :-1]\n",
    "    x = np.zeros(b_.shape[0])\n",
    "    \n",
    "    # backtracking\n",
    "    x[-1] = b_[-1] / A_[-1,-1]\n",
    "    for i in reversed(range(b_.shape[0] - 1)):\n",
    "        x[i] = 1 / A_[i, i] * (b_[i] - A_[i, i+1: ] @ x[i+1: ])\n",
    "    \n",
    "    return x"
   ]
  },
  {
   "cell_type": "code",
   "execution_count": 12,
   "metadata": {},
   "outputs": [
    {
     "data": {
      "text/plain": [
       "array([-0.66666667,  0.33333333,  0.33333333])"
      ]
     },
     "execution_count": 12,
     "metadata": {},
     "output_type": "execute_result"
    }
   ],
   "source": [
    "gauss(A, b)"
   ]
  },
  {
   "cell_type": "code",
   "execution_count": null,
   "metadata": {},
   "outputs": [],
   "source": []
  }
 ],
 "metadata": {
  "kernelspec": {
   "display_name": "Python 3",
   "language": "python",
   "name": "python3"
  },
  "language_info": {
   "codemirror_mode": {
    "name": "ipython",
    "version": 3
   },
   "file_extension": ".py",
   "mimetype": "text/x-python",
   "name": "python",
   "nbconvert_exporter": "python",
   "pygments_lexer": "ipython3",
   "version": "3.7.1"
  }
 },
 "nbformat": 4,
 "nbformat_minor": 2
}
